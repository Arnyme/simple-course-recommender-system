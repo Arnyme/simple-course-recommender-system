{
  "cells": [
    {
      "cell_type": "code",
      "execution_count": 104,
      "metadata": {
        "id": "G2CrFZOPP-ZV"
      },
      "outputs": [],
      "source": [
        "import numpy as np\n",
        "import pandas as pd\n",
        "import matplotlib.pyplot as plt\n",
        "import seaborn as sns"
      ]
    },
    {
      "cell_type": "code",
      "execution_count": 105,
      "metadata": {
        "id": "SvlCSIn6RIE_"
      },
      "outputs": [],
      "source": [
        "ratings = pd.read_csv('data/ratings (1).csv')"
      ]
    },
    {
      "cell_type": "code",
      "execution_count": 106,
      "metadata": {
        "id": "75kXzbV4RM_j"
      },
      "outputs": [],
      "source": [
        "courses = pd.read_csv('data/courses.csv')"
      ]
    },
    {
      "cell_type": "code",
      "execution_count": 107,
      "metadata": {
        "id": "coiokRySR-ld"
      },
      "outputs": [
        {
          "data": {
            "text/html": [
              "<div>\n",
              "<style scoped>\n",
              "    .dataframe tbody tr th:only-of-type {\n",
              "        vertical-align: middle;\n",
              "    }\n",
              "\n",
              "    .dataframe tbody tr th {\n",
              "        vertical-align: top;\n",
              "    }\n",
              "\n",
              "    .dataframe thead th {\n",
              "        text-align: right;\n",
              "    }\n",
              "</style>\n",
              "<table border=\"1\" class=\"dataframe\">\n",
              "  <thead>\n",
              "    <tr style=\"text-align: right;\">\n",
              "      <th></th>\n",
              "      <th>courseId</th>\n",
              "      <th>Faculty</th>\n",
              "      <th>Course</th>\n",
              "      <th>Level</th>\n",
              "      <th>Related_Interests</th>\n",
              "    </tr>\n",
              "  </thead>\n",
              "  <tbody>\n",
              "    <tr>\n",
              "      <th>0</th>\n",
              "      <td>1</td>\n",
              "      <td>Accounting Banking and Finance</td>\n",
              "      <td>Bachelor of Accounting (B.Acc)</td>\n",
              "      <td>Undergraduate</td>\n",
              "      <td>Financial Analysis|Auditing|Accounting|Corpora...</td>\n",
              "    </tr>\n",
              "    <tr>\n",
              "      <th>1</th>\n",
              "      <td>2</td>\n",
              "      <td>Accounting Banking and Finance</td>\n",
              "      <td>Bachelor of Banking and Finance (BBF)</td>\n",
              "      <td>Undergraduate</td>\n",
              "      <td>Investment Strategies|Financial Management|Ban...</td>\n",
              "    </tr>\n",
              "    <tr>\n",
              "      <th>2</th>\n",
              "      <td>3</td>\n",
              "      <td>Accounting Banking and Finance</td>\n",
              "      <td>Ordinary Diploma in Banking (ODB)</td>\n",
              "      <td>Diploma</td>\n",
              "      <td>Commercial Banking|Retail Banking|Financial Se...</td>\n",
              "    </tr>\n",
              "    <tr>\n",
              "      <th>3</th>\n",
              "      <td>4</td>\n",
              "      <td>Accounting Banking and Finance</td>\n",
              "      <td>Ordinary Diploma in Accounting (ODA)</td>\n",
              "      <td>Diploma</td>\n",
              "      <td>Financial Reporting|Cost Accounting|Bookkeepin...</td>\n",
              "    </tr>\n",
              "    <tr>\n",
              "      <th>4</th>\n",
              "      <td>5</td>\n",
              "      <td>Accounting Banking and Finance</td>\n",
              "      <td>Basic Technician Certificate in Accountancy (B...</td>\n",
              "      <td>Undergraduate</td>\n",
              "      <td>Bookkeeping|Tax Preparation|Accounting|Financi...</td>\n",
              "    </tr>\n",
              "  </tbody>\n",
              "</table>\n",
              "</div>"
            ],
            "text/plain": [
              "   courseId                         Faculty  \\\n",
              "0         1  Accounting Banking and Finance   \n",
              "1         2  Accounting Banking and Finance   \n",
              "2         3  Accounting Banking and Finance   \n",
              "3         4  Accounting Banking and Finance   \n",
              "4         5  Accounting Banking and Finance   \n",
              "\n",
              "                                              Course          Level  \\\n",
              "0                     Bachelor of Accounting (B.Acc)  Undergraduate   \n",
              "1              Bachelor of Banking and Finance (BBF)  Undergraduate   \n",
              "2                  Ordinary Diploma in Banking (ODB)        Diploma   \n",
              "3               Ordinary Diploma in Accounting (ODA)        Diploma   \n",
              "4  Basic Technician Certificate in Accountancy (B...  Undergraduate   \n",
              "\n",
              "                                   Related_Interests  \n",
              "0  Financial Analysis|Auditing|Accounting|Corpora...  \n",
              "1  Investment Strategies|Financial Management|Ban...  \n",
              "2  Commercial Banking|Retail Banking|Financial Se...  \n",
              "3  Financial Reporting|Cost Accounting|Bookkeepin...  \n",
              "4  Bookkeeping|Tax Preparation|Accounting|Financi...  "
            ]
          },
          "execution_count": 107,
          "metadata": {},
          "output_type": "execute_result"
        }
      ],
      "source": [
        "courses.head()"
      ]
    },
    {
      "cell_type": "code",
      "execution_count": 108,
      "metadata": {
        "id": "kk1oRtliRszj"
      },
      "outputs": [
        {
          "data": {
            "text/html": [
              "<div>\n",
              "<style scoped>\n",
              "    .dataframe tbody tr th:only-of-type {\n",
              "        vertical-align: middle;\n",
              "    }\n",
              "\n",
              "    .dataframe tbody tr th {\n",
              "        vertical-align: top;\n",
              "    }\n",
              "\n",
              "    .dataframe thead th {\n",
              "        text-align: right;\n",
              "    }\n",
              "</style>\n",
              "<table border=\"1\" class=\"dataframe\">\n",
              "  <thead>\n",
              "    <tr style=\"text-align: right;\">\n",
              "      <th></th>\n",
              "      <th>userId</th>\n",
              "      <th>courseId</th>\n",
              "      <th>rating</th>\n",
              "      <th>timestamp</th>\n",
              "    </tr>\n",
              "  </thead>\n",
              "  <tbody>\n",
              "    <tr>\n",
              "      <th>0</th>\n",
              "      <td>14134</td>\n",
              "      <td>30</td>\n",
              "      <td>2</td>\n",
              "      <td>2022-10-10 17:21:25.913541</td>\n",
              "    </tr>\n",
              "    <tr>\n",
              "      <th>1</th>\n",
              "      <td>19224</td>\n",
              "      <td>6</td>\n",
              "      <td>2</td>\n",
              "      <td>2022-08-16 14:30:14.454004</td>\n",
              "    </tr>\n",
              "    <tr>\n",
              "      <th>2</th>\n",
              "      <td>370</td>\n",
              "      <td>38</td>\n",
              "      <td>1</td>\n",
              "      <td>2023-12-08 21:35:19.048880</td>\n",
              "    </tr>\n",
              "    <tr>\n",
              "      <th>3</th>\n",
              "      <td>7284</td>\n",
              "      <td>9</td>\n",
              "      <td>2</td>\n",
              "      <td>2020-11-24 12:41:00.998192</td>\n",
              "    </tr>\n",
              "    <tr>\n",
              "      <th>4</th>\n",
              "      <td>14238</td>\n",
              "      <td>19</td>\n",
              "      <td>1</td>\n",
              "      <td>2021-04-01 12:25:02.245872</td>\n",
              "    </tr>\n",
              "  </tbody>\n",
              "</table>\n",
              "</div>"
            ],
            "text/plain": [
              "   userId  courseId  rating                   timestamp\n",
              "0   14134        30       2  2022-10-10 17:21:25.913541\n",
              "1   19224         6       2  2022-08-16 14:30:14.454004\n",
              "2     370        38       1  2023-12-08 21:35:19.048880\n",
              "3    7284         9       2  2020-11-24 12:41:00.998192\n",
              "4   14238        19       1  2021-04-01 12:25:02.245872"
            ]
          },
          "execution_count": 108,
          "metadata": {},
          "output_type": "execute_result"
        }
      ],
      "source": [
        "ratings.head()"
      ]
    },
    {
      "cell_type": "code",
      "execution_count": 109,
      "metadata": {
        "id": "LUdhx_fZUuLN"
      },
      "outputs": [
        {
          "name": "stdout",
          "output_type": "stream",
          "text": [
            "Number of ratings: 100000\n",
            "Number of unique courses: 42\n",
            "Number of unique users: 19865\n",
            "Average number of ratings per user: 5.03\n",
            "Average number of ratings per course: 2380.95\n"
          ]
        }
      ],
      "source": [
        "n_ratings = len(ratings)\n",
        "n_courses = ratings['courseId'].nunique()\n",
        "n_users = ratings['userId'].nunique()\n",
        "\n",
        "print(f\"Number of ratings: {n_ratings}\")\n",
        "print(f\"Number of unique courses: {n_courses}\")\n",
        "print(f\"Number of unique users: {n_users}\")\n",
        "print(f\"Average number of ratings per user: {round(n_ratings/n_users, 2)}\")\n",
        "print(f\"Average number of ratings per course: {round(n_ratings/n_courses, 2)}\")"
      ]
    },
    {
      "cell_type": "code",
      "execution_count": 110,
      "metadata": {
        "id": "GAltCTELlZBl"
      },
      "outputs": [
        {
          "data": {
            "image/png": "[encoded data removed]",
            "text/plain": [
              "<Figure size 640x480 with 1 Axes>"
            ]
          },
          "metadata": {},
          "output_type": "display_data"
        }
      ],
      "source": [
        "sns.countplot(x='rating', data=ratings)\n",
        "plt.title(\"Distribution of course ratings\", fontsize=14)\n",
        "plt.show()"
      ]
    },
    {
      "cell_type": "code",
      "execution_count": 111,
      "metadata": {
        "id": "f0L9_se9wnjD"
      },
      "outputs": [
        {
          "name": "stdout",
          "output_type": "stream",
          "text": [
            "Mean global rating: 2.99.\n"
          ]
        }
      ],
      "source": [
        "print(f\"Mean global rating: {round(ratings['rating'].mean(),2)}.\")"
      ]
    },
    {
      "cell_type": "code",
      "execution_count": 112,
      "metadata": {
        "id": "LUeg4UlKwtpy"
      },
      "outputs": [
        {
          "name": "stdout",
          "output_type": "stream",
          "text": [
            "Mean rating per user: 2.99.\n"
          ]
        }
      ],
      "source": [
        "mean_ratings = ratings.groupby('userId')['rating'].mean()\n",
        "print(f\"Mean rating per user: {round(mean_ratings.mean(),2)}.\")"
      ]
    },
    {
      "cell_type": "code",
      "execution_count": 113,
      "metadata": {
        "id": "cu0yf8bExTY6"
      },
      "outputs": [
        {
          "data": {
            "text/plain": [
              "courseId\n",
              "10    2484\n",
              "30    2478\n",
              "13    2477\n",
              "32    2476\n",
              "36    2468\n",
              "40    2449\n",
              "25    2445\n",
              "18    2437\n",
              "26    2434\n",
              "1     2431\n",
              "27    2425\n",
              "5     2417\n",
              "15    2416\n",
              "34    2415\n",
              "6     2404\n",
              "17    2390\n",
              "21    2389\n",
              "9     2384\n",
              "39    2383\n",
              "16    2379\n",
              "42    2375\n",
              "12    2374\n",
              "23    2369\n",
              "33    2367\n",
              "4     2352\n",
              "29    2352\n",
              "19    2349\n",
              "35    2349\n",
              "22    2347\n",
              "41    2347\n",
              "20    2345\n",
              "8     2341\n",
              "24    2339\n",
              "3     2337\n",
              "37    2335\n",
              "31    2330\n",
              "14    2327\n",
              "11    2319\n",
              "38    2317\n",
              "2     2307\n",
              "28    2284\n",
              "7     2257\n",
              "Name: count, dtype: int64"
            ]
          },
          "execution_count": 113,
          "metadata": {},
          "output_type": "execute_result"
        }
      ],
      "source": [
        "ratings['courseId'].value_counts()"
      ]
    },
    {
      "cell_type": "code",
      "execution_count": 114,
      "metadata": {
        "id": "Hy6zR71T1gVS"
      },
      "outputs": [
        {
          "data": {
            "text/plain": [
              "Course\n",
              "Ordinary Diploma in Computer Science (ODCS)                    2484\n",
              "Postgraduate Diploma in Human Resources Management (PGDHRM)    2478\n",
              "Bachelor of Science in Actuarial Science (BSc AS)              2477\n",
              "MSc in Insurance and Actuarial Science (MSc IAS)               2476\n",
              "Certificate in Accountancy                                     2468\n",
              "Certificate in Insurance and Social Protection                 2449\n",
              "Postgraduate Diploma in Accountancy (PGDA)                     2445\n",
              "Basic Technician Certificate in Social Protection (BTCSP)      2437\n",
              "MSc in Human Resource Management                               2434\n",
              "Bachelor of Accounting (B.Acc)                                 2431\n",
              "Name: count, dtype: int64"
            ]
          },
          "execution_count": 114,
          "metadata": {},
          "output_type": "execute_result"
        }
      ],
      "source": [
        "course_ratings = ratings.merge(courses, on='courseId')\n",
        "# course_ratings\n",
        "course_ratings['Course'].value_counts()[0:10]"
      ]
    },
    {
      "cell_type": "code",
      "execution_count": 115,
      "metadata": {
        "id": "tikO5NuL5jWU"
      },
      "outputs": [
        {
          "data": {
            "text/html": [
              "<div>\n",
              "<style scoped>\n",
              "    .dataframe tbody tr th:only-of-type {\n",
              "        vertical-align: middle;\n",
              "    }\n",
              "\n",
              "    .dataframe tbody tr th {\n",
              "        vertical-align: top;\n",
              "    }\n",
              "\n",
              "    .dataframe thead th {\n",
              "        text-align: right;\n",
              "    }\n",
              "</style>\n",
              "<table border=\"1\" class=\"dataframe\">\n",
              "  <thead>\n",
              "    <tr style=\"text-align: right;\">\n",
              "      <th></th>\n",
              "      <th>courseId</th>\n",
              "      <th>Faculty</th>\n",
              "      <th>Course</th>\n",
              "      <th>Level</th>\n",
              "      <th>Related_Interests</th>\n",
              "    </tr>\n",
              "  </thead>\n",
              "  <tbody>\n",
              "    <tr>\n",
              "      <th>19</th>\n",
              "      <td>20</td>\n",
              "      <td>Economics and Management Science</td>\n",
              "      <td>Ordinary Diploma in Taxation (ODTM)</td>\n",
              "      <td>Diploma</td>\n",
              "      <td>Tax Law|Financial Planning|Auditing|Tax Compli...</td>\n",
              "    </tr>\n",
              "  </tbody>\n",
              "</table>\n",
              "</div>"
            ],
            "text/plain": [
              "    courseId                           Faculty  \\\n",
              "19        20  Economics and Management Science   \n",
              "\n",
              "                                 Course    Level  \\\n",
              "19  Ordinary Diploma in Taxation (ODTM)  Diploma   \n",
              "\n",
              "                                    Related_Interests  \n",
              "19  Tax Law|Financial Planning|Auditing|Tax Compli...  "
            ]
          },
          "execution_count": 115,
          "metadata": {},
          "output_type": "execute_result"
        }
      ],
      "source": [
        "mean_ratings = ratings.groupby('courseId')[['rating']].mean()\n",
        "lowest_rated = mean_ratings['rating'].idxmin()\n",
        "# mean_ratings\n",
        "courses[courses['courseId'] == lowest_rated]"
      ]
    },
    {
      "cell_type": "code",
      "execution_count": 116,
      "metadata": {
        "id": "CTFn_LRo6VFH"
      },
      "outputs": [
        {
          "data": {
            "text/html": [
              "<div>\n",
              "<style scoped>\n",
              "    .dataframe tbody tr th:only-of-type {\n",
              "        vertical-align: middle;\n",
              "    }\n",
              "\n",
              "    .dataframe tbody tr th {\n",
              "        vertical-align: top;\n",
              "    }\n",
              "\n",
              "    .dataframe thead th {\n",
              "        text-align: right;\n",
              "    }\n",
              "</style>\n",
              "<table border=\"1\" class=\"dataframe\">\n",
              "  <thead>\n",
              "    <tr style=\"text-align: right;\">\n",
              "      <th></th>\n",
              "      <th>courseId</th>\n",
              "      <th>Faculty</th>\n",
              "      <th>Course</th>\n",
              "      <th>Level</th>\n",
              "      <th>Related_Interests</th>\n",
              "    </tr>\n",
              "  </thead>\n",
              "  <tbody>\n",
              "    <tr>\n",
              "      <th>24</th>\n",
              "      <td>25</td>\n",
              "      <td>Accounting Banking and Finance</td>\n",
              "      <td>Postgraduate Diploma in Accountancy (PGDA)</td>\n",
              "      <td>Postgraduate</td>\n",
              "      <td>Financial Reporting|Auditing|Cost Accounting|T...</td>\n",
              "    </tr>\n",
              "  </tbody>\n",
              "</table>\n",
              "</div>"
            ],
            "text/plain": [
              "    courseId                         Faculty  \\\n",
              "24        25  Accounting Banking and Finance   \n",
              "\n",
              "                                        Course         Level  \\\n",
              "24  Postgraduate Diploma in Accountancy (PGDA)  Postgraduate   \n",
              "\n",
              "                                    Related_Interests  \n",
              "24  Financial Reporting|Auditing|Cost Accounting|T...  "
            ]
          },
          "execution_count": 116,
          "metadata": {},
          "output_type": "execute_result"
        }
      ],
      "source": [
        "highest_rated = mean_ratings['rating'].idxmax()\n",
        "\n",
        "courses[courses['courseId'] == highest_rated]"
      ]
    },
    {
      "cell_type": "code",
      "execution_count": 117,
      "metadata": {
        "id": "-IXwQwhW7HMb"
      },
      "outputs": [
        {
          "data": {
            "text/html": [
              "<div>\n",
              "<style scoped>\n",
              "    .dataframe tbody tr th:only-of-type {\n",
              "        vertical-align: middle;\n",
              "    }\n",
              "\n",
              "    .dataframe tbody tr th {\n",
              "        vertical-align: top;\n",
              "    }\n",
              "\n",
              "    .dataframe thead th {\n",
              "        text-align: right;\n",
              "    }\n",
              "</style>\n",
              "<table border=\"1\" class=\"dataframe\">\n",
              "  <thead>\n",
              "    <tr style=\"text-align: right;\">\n",
              "      <th></th>\n",
              "      <th>userId</th>\n",
              "      <th>courseId</th>\n",
              "      <th>rating</th>\n",
              "      <th>timestamp</th>\n",
              "    </tr>\n",
              "  </thead>\n",
              "  <tbody>\n",
              "    <tr>\n",
              "      <th>50</th>\n",
              "      <td>7119</td>\n",
              "      <td>25</td>\n",
              "      <td>4</td>\n",
              "      <td>2023-02-01 08:10:11.287237</td>\n",
              "    </tr>\n",
              "    <tr>\n",
              "      <th>70</th>\n",
              "      <td>13470</td>\n",
              "      <td>25</td>\n",
              "      <td>2</td>\n",
              "      <td>2020-10-20 18:51:17.721729</td>\n",
              "    </tr>\n",
              "    <tr>\n",
              "      <th>76</th>\n",
              "      <td>2173</td>\n",
              "      <td>25</td>\n",
              "      <td>3</td>\n",
              "      <td>2023-01-12 12:30:33.397985</td>\n",
              "    </tr>\n",
              "    <tr>\n",
              "      <th>78</th>\n",
              "      <td>10812</td>\n",
              "      <td>25</td>\n",
              "      <td>5</td>\n",
              "      <td>2020-12-31 04:57:10.498370</td>\n",
              "    </tr>\n",
              "    <tr>\n",
              "      <th>103</th>\n",
              "      <td>1252</td>\n",
              "      <td>25</td>\n",
              "      <td>3</td>\n",
              "      <td>2021-12-17 06:57:28.468021</td>\n",
              "    </tr>\n",
              "    <tr>\n",
              "      <th>...</th>\n",
              "      <td>...</td>\n",
              "      <td>...</td>\n",
              "      <td>...</td>\n",
              "      <td>...</td>\n",
              "    </tr>\n",
              "    <tr>\n",
              "      <th>99870</th>\n",
              "      <td>9830</td>\n",
              "      <td>25</td>\n",
              "      <td>3</td>\n",
              "      <td>2020-12-01 17:48:57.767923</td>\n",
              "    </tr>\n",
              "    <tr>\n",
              "      <th>99887</th>\n",
              "      <td>14409</td>\n",
              "      <td>25</td>\n",
              "      <td>4</td>\n",
              "      <td>2023-09-15 08:48:31.501257</td>\n",
              "    </tr>\n",
              "    <tr>\n",
              "      <th>99943</th>\n",
              "      <td>5679</td>\n",
              "      <td>25</td>\n",
              "      <td>1</td>\n",
              "      <td>2020-09-29 04:54:33.099350</td>\n",
              "    </tr>\n",
              "    <tr>\n",
              "      <th>99961</th>\n",
              "      <td>3675</td>\n",
              "      <td>25</td>\n",
              "      <td>5</td>\n",
              "      <td>2024-02-02 20:36:27.961284</td>\n",
              "    </tr>\n",
              "    <tr>\n",
              "      <th>99983</th>\n",
              "      <td>16213</td>\n",
              "      <td>25</td>\n",
              "      <td>1</td>\n",
              "      <td>2023-11-25 01:28:55.192289</td>\n",
              "    </tr>\n",
              "  </tbody>\n",
              "</table>\n",
              "<p>2445 rows × 4 columns</p>\n",
              "</div>"
            ],
            "text/plain": [
              "       userId  courseId  rating                   timestamp\n",
              "50       7119        25       4  2023-02-01 08:10:11.287237\n",
              "70      13470        25       2  2020-10-20 18:51:17.721729\n",
              "76       2173        25       3  2023-01-12 12:30:33.397985\n",
              "78      10812        25       5  2020-12-31 04:57:10.498370\n",
              "103      1252        25       3  2021-12-17 06:57:28.468021\n",
              "...       ...       ...     ...                         ...\n",
              "99870    9830        25       3  2020-12-01 17:48:57.767923\n",
              "99887   14409        25       4  2023-09-15 08:48:31.501257\n",
              "99943    5679        25       1  2020-09-29 04:54:33.099350\n",
              "99961    3675        25       5  2024-02-02 20:36:27.961284\n",
              "99983   16213        25       1  2023-11-25 01:28:55.192289\n",
              "\n",
              "[2445 rows x 4 columns]"
            ]
          },
          "execution_count": 117,
          "metadata": {},
          "output_type": "execute_result"
        }
      ],
      "source": [
        "ratings[ratings['courseId']==highest_rated]"
      ]
    },
    {
      "cell_type": "code",
      "execution_count": 118,
      "metadata": {
        "id": "4_Fby06W8kLQ"
      },
      "outputs": [
        {
          "data": {
            "text/html": [
              "<div>\n",
              "<style scoped>\n",
              "    .dataframe tbody tr th:only-of-type {\n",
              "        vertical-align: middle;\n",
              "    }\n",
              "\n",
              "    .dataframe tbody tr th {\n",
              "        vertical-align: top;\n",
              "    }\n",
              "\n",
              "    .dataframe thead th {\n",
              "        text-align: right;\n",
              "    }\n",
              "</style>\n",
              "<table border=\"1\" class=\"dataframe\">\n",
              "  <thead>\n",
              "    <tr style=\"text-align: right;\">\n",
              "      <th></th>\n",
              "      <th>count</th>\n",
              "      <th>mean</th>\n",
              "    </tr>\n",
              "    <tr>\n",
              "      <th>courseId</th>\n",
              "      <th></th>\n",
              "      <th></th>\n",
              "    </tr>\n",
              "  </thead>\n",
              "  <tbody>\n",
              "    <tr>\n",
              "      <th>1</th>\n",
              "      <td>2431</td>\n",
              "      <td>3.009461</td>\n",
              "    </tr>\n",
              "    <tr>\n",
              "      <th>2</th>\n",
              "      <td>2307</td>\n",
              "      <td>2.979627</td>\n",
              "    </tr>\n",
              "    <tr>\n",
              "      <th>3</th>\n",
              "      <td>2337</td>\n",
              "      <td>2.946085</td>\n",
              "    </tr>\n",
              "    <tr>\n",
              "      <th>4</th>\n",
              "      <td>2352</td>\n",
              "      <td>2.965561</td>\n",
              "    </tr>\n",
              "    <tr>\n",
              "      <th>5</th>\n",
              "      <td>2417</td>\n",
              "      <td>2.942077</td>\n",
              "    </tr>\n",
              "  </tbody>\n",
              "</table>\n",
              "</div>"
            ],
            "text/plain": [
              "          count      mean\n",
              "courseId                 \n",
              "1          2431  3.009461\n",
              "2          2307  2.979627\n",
              "3          2337  2.946085\n",
              "4          2352  2.965561\n",
              "5          2417  2.942077"
            ]
          },
          "execution_count": 118,
          "metadata": {},
          "output_type": "execute_result"
        }
      ],
      "source": [
        "course_stats = ratings.groupby('courseId')['rating'].agg(['count', 'mean'])\n",
        "course_stats.head()"
      ]
    },
    {
      "cell_type": "code",
      "execution_count": 119,
      "metadata": {
        "id": "lJ0EyygT9Kze"
      },
      "outputs": [
        {
          "name": "stdout",
          "output_type": "stream",
          "text": [
            "Average number of ratings for a given course: 2380.95\n",
            "Average rating for a given course: 2.99\n"
          ]
        }
      ],
      "source": [
        "C = course_stats['count'].mean()\n",
        "m = course_stats['mean'].mean()\n",
        "\n",
        "print(f\"Average number of ratings for a given course: {C:.2f}\")\n",
        "print(f\"Average rating for a given course: {m:.2f}\")\n",
        "\n",
        "def bayesian_avg(ratings):\n",
        "    bayesian_avg = (C*m + ratings.sum())/(C+ratings.count())\n",
        "    return round(bayesian_avg, 3)"
      ]
    },
    {
      "cell_type": "code",
      "execution_count": 120,
      "metadata": {
        "id": "yfz1wgl2-Qcc"
      },
      "outputs": [
        {
          "data": {
            "text/plain": [
              "2.996"
            ]
          },
          "execution_count": 120,
          "metadata": {},
          "output_type": "execute_result"
        }
      ],
      "source": [
        "# these are the two ratings for highest rated course\n",
        "highest_rated = pd.Series([5,5])\n",
        "bayesian_avg(highest_rated)"
      ]
    },
    {
      "cell_type": "code",
      "execution_count": 121,
      "metadata": {
        "id": "JLfpIwRxyEMQ"
      },
      "outputs": [],
      "source": [
        "bayesian_avg_ratings = ratings.groupby('courseId')['rating'].agg(bayesian_avg).reset_index()\n",
        "bayesian_avg_ratings.columns = ['courseId', 'bayesian_avg']\n",
        "course_stats = course_stats.merge(bayesian_avg_ratings, on='courseId')"
      ]
    },
    {
      "cell_type": "code",
      "execution_count": 122,
      "metadata": {
        "id": "atj1YuT60HIg"
      },
      "outputs": [],
      "source": [
        "course_stats = course_stats.merge(courses[['courseId', 'Course']])\n",
        "# course_stats.sort_values()"
      ]
    },
    {
      "cell_type": "code",
      "execution_count": 123,
      "metadata": {
        "id": "OChHgymN0yPb"
      },
      "outputs": [
        {
          "data": {
            "text/html": [
              "<div>\n",
              "<style scoped>\n",
              "    .dataframe tbody tr th:only-of-type {\n",
              "        vertical-align: middle;\n",
              "    }\n",
              "\n",
              "    .dataframe tbody tr th {\n",
              "        vertical-align: top;\n",
              "    }\n",
              "\n",
              "    .dataframe thead th {\n",
              "        text-align: right;\n",
              "    }\n",
              "</style>\n",
              "<table border=\"1\" class=\"dataframe\">\n",
              "  <thead>\n",
              "    <tr style=\"text-align: right;\">\n",
              "      <th></th>\n",
              "      <th>courseId</th>\n",
              "      <th>count</th>\n",
              "      <th>mean</th>\n",
              "      <th>bayesian_avg</th>\n",
              "      <th>Course</th>\n",
              "    </tr>\n",
              "  </thead>\n",
              "  <tbody>\n",
              "    <tr>\n",
              "      <th>19</th>\n",
              "      <td>20</td>\n",
              "      <td>2345</td>\n",
              "      <td>2.920256</td>\n",
              "      <td>2.958</td>\n",
              "      <td>Ordinary Diploma in Taxation (ODTM)</td>\n",
              "    </tr>\n",
              "    <tr>\n",
              "      <th>4</th>\n",
              "      <td>5</td>\n",
              "      <td>2417</td>\n",
              "      <td>2.942077</td>\n",
              "      <td>2.968</td>\n",
              "      <td>Basic Technician Certificate in Accountancy (B...</td>\n",
              "    </tr>\n",
              "    <tr>\n",
              "      <th>2</th>\n",
              "      <td>3</td>\n",
              "      <td>2337</td>\n",
              "      <td>2.946085</td>\n",
              "      <td>2.971</td>\n",
              "      <td>Ordinary Diploma in Banking (ODB)</td>\n",
              "    </tr>\n",
              "    <tr>\n",
              "      <th>15</th>\n",
              "      <td>16</td>\n",
              "      <td>2379</td>\n",
              "      <td>2.949979</td>\n",
              "      <td>2.972</td>\n",
              "      <td>Ordinary Diploma in Social Protection (ODSP)</td>\n",
              "    </tr>\n",
              "    <tr>\n",
              "      <th>28</th>\n",
              "      <td>29</td>\n",
              "      <td>2352</td>\n",
              "      <td>2.951956</td>\n",
              "      <td>2.973</td>\n",
              "      <td>Postgraduate Diploma in Business Administratio...</td>\n",
              "    </tr>\n",
              "    <tr>\n",
              "      <th>26</th>\n",
              "      <td>27</td>\n",
              "      <td>2425</td>\n",
              "      <td>2.951753</td>\n",
              "      <td>2.973</td>\n",
              "      <td>MBA in International Business</td>\n",
              "    </tr>\n",
              "    <tr>\n",
              "      <th>7</th>\n",
              "      <td>8</td>\n",
              "      <td>2341</td>\n",
              "      <td>2.954293</td>\n",
              "      <td>2.975</td>\n",
              "      <td>Bachelor in Computer Science (BSc CS)</td>\n",
              "    </tr>\n",
              "    <tr>\n",
              "      <th>3</th>\n",
              "      <td>4</td>\n",
              "      <td>2352</td>\n",
              "      <td>2.965561</td>\n",
              "      <td>2.980</td>\n",
              "      <td>Ordinary Diploma in Accounting (ODA)</td>\n",
              "    </tr>\n",
              "    <tr>\n",
              "      <th>11</th>\n",
              "      <td>12</td>\n",
              "      <td>2374</td>\n",
              "      <td>2.965880</td>\n",
              "      <td>2.980</td>\n",
              "      <td>Bachelor of Science in Insurance and Risk Mana...</td>\n",
              "    </tr>\n",
              "    <tr>\n",
              "      <th>16</th>\n",
              "      <td>17</td>\n",
              "      <td>2390</td>\n",
              "      <td>2.966527</td>\n",
              "      <td>2.981</td>\n",
              "      <td>Basic Technician Certificate in Insurance and ...</td>\n",
              "    </tr>\n",
              "    <tr>\n",
              "      <th>31</th>\n",
              "      <td>32</td>\n",
              "      <td>2476</td>\n",
              "      <td>2.968094</td>\n",
              "      <td>2.981</td>\n",
              "      <td>MSc in Insurance and Actuarial Science (MSc IAS)</td>\n",
              "    </tr>\n",
              "    <tr>\n",
              "      <th>5</th>\n",
              "      <td>6</td>\n",
              "      <td>2404</td>\n",
              "      <td>2.970050</td>\n",
              "      <td>2.982</td>\n",
              "      <td>Basic Technician Certificate in Banking and Fi...</td>\n",
              "    </tr>\n",
              "    <tr>\n",
              "      <th>25</th>\n",
              "      <td>26</td>\n",
              "      <td>2434</td>\n",
              "      <td>2.972473</td>\n",
              "      <td>2.983</td>\n",
              "      <td>MSc in Human Resource Management</td>\n",
              "    </tr>\n",
              "    <tr>\n",
              "      <th>30</th>\n",
              "      <td>31</td>\n",
              "      <td>2330</td>\n",
              "      <td>2.974249</td>\n",
              "      <td>2.985</td>\n",
              "      <td>Postgraduate Diploma in Tax Management (PGDTM)</td>\n",
              "    </tr>\n",
              "    <tr>\n",
              "      <th>37</th>\n",
              "      <td>38</td>\n",
              "      <td>2317</td>\n",
              "      <td>2.978420</td>\n",
              "      <td>2.987</td>\n",
              "      <td>Certificate in Taxation</td>\n",
              "    </tr>\n",
              "    <tr>\n",
              "      <th>1</th>\n",
              "      <td>2</td>\n",
              "      <td>2307</td>\n",
              "      <td>2.979627</td>\n",
              "      <td>2.987</td>\n",
              "      <td>Bachelor of Banking and Finance (BBF)</td>\n",
              "    </tr>\n",
              "    <tr>\n",
              "      <th>39</th>\n",
              "      <td>40</td>\n",
              "      <td>2449</td>\n",
              "      <td>2.985300</td>\n",
              "      <td>2.990</td>\n",
              "      <td>Certificate in Insurance and Social Protection</td>\n",
              "    </tr>\n",
              "    <tr>\n",
              "      <th>41</th>\n",
              "      <td>42</td>\n",
              "      <td>2375</td>\n",
              "      <td>2.986105</td>\n",
              "      <td>2.990</td>\n",
              "      <td>Basic Technician Certificate in Computing and ...</td>\n",
              "    </tr>\n",
              "    <tr>\n",
              "      <th>20</th>\n",
              "      <td>21</td>\n",
              "      <td>2389</td>\n",
              "      <td>2.989535</td>\n",
              "      <td>2.992</td>\n",
              "      <td>MSc in Finance and Investment</td>\n",
              "    </tr>\n",
              "    <tr>\n",
              "      <th>34</th>\n",
              "      <td>35</td>\n",
              "      <td>2349</td>\n",
              "      <td>2.991911</td>\n",
              "      <td>2.993</td>\n",
              "      <td>MSc in Information Technology and Management (...</td>\n",
              "    </tr>\n",
              "    <tr>\n",
              "      <th>6</th>\n",
              "      <td>7</td>\n",
              "      <td>2257</td>\n",
              "      <td>2.995569</td>\n",
              "      <td>2.995</td>\n",
              "      <td>Bachelor of Science in Information Technology ...</td>\n",
              "    </tr>\n",
              "    <tr>\n",
              "      <th>18</th>\n",
              "      <td>19</td>\n",
              "      <td>2349</td>\n",
              "      <td>2.995743</td>\n",
              "      <td>2.995</td>\n",
              "      <td>Bachelor of Science in Taxation (BSc Taxation)</td>\n",
              "    </tr>\n",
              "    <tr>\n",
              "      <th>27</th>\n",
              "      <td>28</td>\n",
              "      <td>2284</td>\n",
              "      <td>3.000000</td>\n",
              "      <td>2.997</td>\n",
              "      <td>MBA in International Trade and Logistic Operat...</td>\n",
              "    </tr>\n",
              "    <tr>\n",
              "      <th>14</th>\n",
              "      <td>15</td>\n",
              "      <td>2416</td>\n",
              "      <td>2.999586</td>\n",
              "      <td>2.997</td>\n",
              "      <td>Ordinary Diploma in Insurance and Risk Managem...</td>\n",
              "    </tr>\n",
              "    <tr>\n",
              "      <th>17</th>\n",
              "      <td>18</td>\n",
              "      <td>2437</td>\n",
              "      <td>3.004514</td>\n",
              "      <td>3.000</td>\n",
              "      <td>Basic Technician Certificate in Social Protect...</td>\n",
              "    </tr>\n",
              "    <tr>\n",
              "      <th>12</th>\n",
              "      <td>13</td>\n",
              "      <td>2477</td>\n",
              "      <td>3.008478</td>\n",
              "      <td>3.002</td>\n",
              "      <td>Bachelor of Science in Actuarial Science (BSc AS)</td>\n",
              "    </tr>\n",
              "    <tr>\n",
              "      <th>0</th>\n",
              "      <td>1</td>\n",
              "      <td>2431</td>\n",
              "      <td>3.009461</td>\n",
              "      <td>3.002</td>\n",
              "      <td>Bachelor of Accounting (B.Acc)</td>\n",
              "    </tr>\n",
              "    <tr>\n",
              "      <th>23</th>\n",
              "      <td>24</td>\n",
              "      <td>2339</td>\n",
              "      <td>3.009833</td>\n",
              "      <td>3.002</td>\n",
              "      <td>Postgraduate Diploma in Financial Management (...</td>\n",
              "    </tr>\n",
              "    <tr>\n",
              "      <th>22</th>\n",
              "      <td>23</td>\n",
              "      <td>2369</td>\n",
              "      <td>3.010553</td>\n",
              "      <td>3.003</td>\n",
              "      <td>MSc in Finance</td>\n",
              "    </tr>\n",
              "    <tr>\n",
              "      <th>8</th>\n",
              "      <td>9</td>\n",
              "      <td>2384</td>\n",
              "      <td>3.010906</td>\n",
              "      <td>3.003</td>\n",
              "      <td>Ordinary Diploma in Information Technology (ODIT)</td>\n",
              "    </tr>\n",
              "    <tr>\n",
              "      <th>38</th>\n",
              "      <td>39</td>\n",
              "      <td>2383</td>\n",
              "      <td>3.011330</td>\n",
              "      <td>3.003</td>\n",
              "      <td>Certificate in Computer and Information Techno...</td>\n",
              "    </tr>\n",
              "    <tr>\n",
              "      <th>32</th>\n",
              "      <td>33</td>\n",
              "      <td>2367</td>\n",
              "      <td>3.014364</td>\n",
              "      <td>3.004</td>\n",
              "      <td>MSc in Social Protection Policy and Developmen...</td>\n",
              "    </tr>\n",
              "    <tr>\n",
              "      <th>10</th>\n",
              "      <td>11</td>\n",
              "      <td>2319</td>\n",
              "      <td>3.020267</td>\n",
              "      <td>3.007</td>\n",
              "      <td>Basic Technician Certificate in Computing and ...</td>\n",
              "    </tr>\n",
              "    <tr>\n",
              "      <th>36</th>\n",
              "      <td>37</td>\n",
              "      <td>2335</td>\n",
              "      <td>3.020985</td>\n",
              "      <td>3.008</td>\n",
              "      <td>Certificate in Banking and Finance</td>\n",
              "    </tr>\n",
              "    <tr>\n",
              "      <th>35</th>\n",
              "      <td>36</td>\n",
              "      <td>2468</td>\n",
              "      <td>3.028768</td>\n",
              "      <td>3.012</td>\n",
              "      <td>Certificate in Accountancy</td>\n",
              "    </tr>\n",
              "    <tr>\n",
              "      <th>29</th>\n",
              "      <td>30</td>\n",
              "      <td>2478</td>\n",
              "      <td>3.031073</td>\n",
              "      <td>3.013</td>\n",
              "      <td>Postgraduate Diploma in Human Resources Manage...</td>\n",
              "    </tr>\n",
              "    <tr>\n",
              "      <th>9</th>\n",
              "      <td>10</td>\n",
              "      <td>2484</td>\n",
              "      <td>3.034219</td>\n",
              "      <td>3.015</td>\n",
              "      <td>Ordinary Diploma in Computer Science (ODCS)</td>\n",
              "    </tr>\n",
              "    <tr>\n",
              "      <th>13</th>\n",
              "      <td>14</td>\n",
              "      <td>2327</td>\n",
              "      <td>3.041255</td>\n",
              "      <td>3.018</td>\n",
              "      <td>Bachelor of Science in Social Protection (BSc SP)</td>\n",
              "    </tr>\n",
              "    <tr>\n",
              "      <th>21</th>\n",
              "      <td>22</td>\n",
              "      <td>2347</td>\n",
              "      <td>3.043034</td>\n",
              "      <td>3.019</td>\n",
              "      <td>MSc in Accounting and Finance</td>\n",
              "    </tr>\n",
              "    <tr>\n",
              "      <th>40</th>\n",
              "      <td>41</td>\n",
              "      <td>2347</td>\n",
              "      <td>3.044738</td>\n",
              "      <td>3.019</td>\n",
              "      <td>Certificate in Social Protection</td>\n",
              "    </tr>\n",
              "    <tr>\n",
              "      <th>33</th>\n",
              "      <td>34</td>\n",
              "      <td>2415</td>\n",
              "      <td>3.060870</td>\n",
              "      <td>3.028</td>\n",
              "      <td>Postgraduate Diploma in Insurance and Risk Man...</td>\n",
              "    </tr>\n",
              "    <tr>\n",
              "      <th>24</th>\n",
              "      <td>25</td>\n",
              "      <td>2445</td>\n",
              "      <td>3.065031</td>\n",
              "      <td>3.030</td>\n",
              "      <td>Postgraduate Diploma in Accountancy (PGDA)</td>\n",
              "    </tr>\n",
              "  </tbody>\n",
              "</table>\n",
              "</div>"
            ],
            "text/plain": [
              "    courseId  count      mean  bayesian_avg  \\\n",
              "19        20   2345  2.920256         2.958   \n",
              "4          5   2417  2.942077         2.968   \n",
              "2          3   2337  2.946085         2.971   \n",
              "15        16   2379  2.949979         2.972   \n",
              "28        29   2352  2.951956         2.973   \n",
              "26        27   2425  2.951753         2.973   \n",
              "7          8   2341  2.954293         2.975   \n",
              "3          4   2352  2.965561         2.980   \n",
              "11        12   2374  2.965880         2.980   \n",
              "16        17   2390  2.966527         2.981   \n",
              "31        32   2476  2.968094         2.981   \n",
              "5          6   2404  2.970050         2.982   \n",
              "25        26   2434  2.972473         2.983   \n",
              "30        31   2330  2.974249         2.985   \n",
              "37        38   2317  2.978420         2.987   \n",
              "1          2   2307  2.979627         2.987   \n",
              "39        40   2449  2.985300         2.990   \n",
              "41        42   2375  2.986105         2.990   \n",
              "20        21   2389  2.989535         2.992   \n",
              "34        35   2349  2.991911         2.993   \n",
              "6          7   2257  2.995569         2.995   \n",
              "18        19   2349  2.995743         2.995   \n",
              "27        28   2284  3.000000         2.997   \n",
              "14        15   2416  2.999586         2.997   \n",
              "17        18   2437  3.004514         3.000   \n",
              "12        13   2477  3.008478         3.002   \n",
              "0          1   2431  3.009461         3.002   \n",
              "23        24   2339  3.009833         3.002   \n",
              "22        23   2369  3.010553         3.003   \n",
              "8          9   2384  3.010906         3.003   \n",
              "38        39   2383  3.011330         3.003   \n",
              "32        33   2367  3.014364         3.004   \n",
              "10        11   2319  3.020267         3.007   \n",
              "36        37   2335  3.020985         3.008   \n",
              "35        36   2468  3.028768         3.012   \n",
              "29        30   2478  3.031073         3.013   \n",
              "9         10   2484  3.034219         3.015   \n",
              "13        14   2327  3.041255         3.018   \n",
              "21        22   2347  3.043034         3.019   \n",
              "40        41   2347  3.044738         3.019   \n",
              "33        34   2415  3.060870         3.028   \n",
              "24        25   2445  3.065031         3.030   \n",
              "\n",
              "                                               Course  \n",
              "19                Ordinary Diploma in Taxation (ODTM)  \n",
              "4   Basic Technician Certificate in Accountancy (B...  \n",
              "2                   Ordinary Diploma in Banking (ODB)  \n",
              "15       Ordinary Diploma in Social Protection (ODSP)  \n",
              "28  Postgraduate Diploma in Business Administratio...  \n",
              "26                      MBA in International Business  \n",
              "7               Bachelor in Computer Science (BSc CS)  \n",
              "3                Ordinary Diploma in Accounting (ODA)  \n",
              "11  Bachelor of Science in Insurance and Risk Mana...  \n",
              "16  Basic Technician Certificate in Insurance and ...  \n",
              "31   MSc in Insurance and Actuarial Science (MSc IAS)  \n",
              "5   Basic Technician Certificate in Banking and Fi...  \n",
              "25                   MSc in Human Resource Management  \n",
              "30     Postgraduate Diploma in Tax Management (PGDTM)  \n",
              "37                            Certificate in Taxation  \n",
              "1               Bachelor of Banking and Finance (BBF)  \n",
              "39     Certificate in Insurance and Social Protection  \n",
              "41  Basic Technician Certificate in Computing and ...  \n",
              "20                      MSc in Finance and Investment  \n",
              "34  MSc in Information Technology and Management (...  \n",
              "6   Bachelor of Science in Information Technology ...  \n",
              "18     Bachelor of Science in Taxation (BSc Taxation)  \n",
              "27  MBA in International Trade and Logistic Operat...  \n",
              "14  Ordinary Diploma in Insurance and Risk Managem...  \n",
              "17  Basic Technician Certificate in Social Protect...  \n",
              "12  Bachelor of Science in Actuarial Science (BSc AS)  \n",
              "0                      Bachelor of Accounting (B.Acc)  \n",
              "23  Postgraduate Diploma in Financial Management (...  \n",
              "22                                     MSc in Finance  \n",
              "8   Ordinary Diploma in Information Technology (ODIT)  \n",
              "38  Certificate in Computer and Information Techno...  \n",
              "32  MSc in Social Protection Policy and Developmen...  \n",
              "10  Basic Technician Certificate in Computing and ...  \n",
              "36                 Certificate in Banking and Finance  \n",
              "35                         Certificate in Accountancy  \n",
              "29  Postgraduate Diploma in Human Resources Manage...  \n",
              "9         Ordinary Diploma in Computer Science (ODCS)  \n",
              "13  Bachelor of Science in Social Protection (BSc SP)  \n",
              "21                      MSc in Accounting and Finance  \n",
              "40                   Certificate in Social Protection  \n",
              "33  Postgraduate Diploma in Insurance and Risk Man...  \n",
              "24         Postgraduate Diploma in Accountancy (PGDA)  "
            ]
          },
          "execution_count": 123,
          "metadata": {},
          "output_type": "execute_result"
        }
      ],
      "source": [
        "course_stats.sort_values(by='bayesian_avg')"
      ]
    },
    {
      "cell_type": "code",
      "execution_count": 124,
      "metadata": {
        "id": "nQVBRINJzy6-"
      },
      "outputs": [
        {
          "data": {
            "text/html": [
              "<div>\n",
              "<style scoped>\n",
              "    .dataframe tbody tr th:only-of-type {\n",
              "        vertical-align: middle;\n",
              "    }\n",
              "\n",
              "    .dataframe tbody tr th {\n",
              "        vertical-align: top;\n",
              "    }\n",
              "\n",
              "    .dataframe thead th {\n",
              "        text-align: right;\n",
              "    }\n",
              "</style>\n",
              "<table border=\"1\" class=\"dataframe\">\n",
              "  <thead>\n",
              "    <tr style=\"text-align: right;\">\n",
              "      <th></th>\n",
              "      <th>courseId</th>\n",
              "      <th>count</th>\n",
              "      <th>mean</th>\n",
              "      <th>bayesian_avg</th>\n",
              "      <th>Course</th>\n",
              "    </tr>\n",
              "  </thead>\n",
              "  <tbody>\n",
              "    <tr>\n",
              "      <th>24</th>\n",
              "      <td>25</td>\n",
              "      <td>2445</td>\n",
              "      <td>3.065031</td>\n",
              "      <td>3.030</td>\n",
              "      <td>Postgraduate Diploma in Accountancy (PGDA)</td>\n",
              "    </tr>\n",
              "    <tr>\n",
              "      <th>33</th>\n",
              "      <td>34</td>\n",
              "      <td>2415</td>\n",
              "      <td>3.060870</td>\n",
              "      <td>3.028</td>\n",
              "      <td>Postgraduate Diploma in Insurance and Risk Man...</td>\n",
              "    </tr>\n",
              "    <tr>\n",
              "      <th>21</th>\n",
              "      <td>22</td>\n",
              "      <td>2347</td>\n",
              "      <td>3.043034</td>\n",
              "      <td>3.019</td>\n",
              "      <td>MSc in Accounting and Finance</td>\n",
              "    </tr>\n",
              "    <tr>\n",
              "      <th>40</th>\n",
              "      <td>41</td>\n",
              "      <td>2347</td>\n",
              "      <td>3.044738</td>\n",
              "      <td>3.019</td>\n",
              "      <td>Certificate in Social Protection</td>\n",
              "    </tr>\n",
              "    <tr>\n",
              "      <th>13</th>\n",
              "      <td>14</td>\n",
              "      <td>2327</td>\n",
              "      <td>3.041255</td>\n",
              "      <td>3.018</td>\n",
              "      <td>Bachelor of Science in Social Protection (BSc SP)</td>\n",
              "    </tr>\n",
              "  </tbody>\n",
              "</table>\n",
              "</div>"
            ],
            "text/plain": [
              "    courseId  count      mean  bayesian_avg  \\\n",
              "24        25   2445  3.065031         3.030   \n",
              "33        34   2415  3.060870         3.028   \n",
              "21        22   2347  3.043034         3.019   \n",
              "40        41   2347  3.044738         3.019   \n",
              "13        14   2327  3.041255         3.018   \n",
              "\n",
              "                                               Course  \n",
              "24         Postgraduate Diploma in Accountancy (PGDA)  \n",
              "33  Postgraduate Diploma in Insurance and Risk Man...  \n",
              "21                      MSc in Accounting and Finance  \n",
              "40                   Certificate in Social Protection  \n",
              "13  Bachelor of Science in Social Protection (BSc SP)  "
            ]
          },
          "execution_count": 124,
          "metadata": {},
          "output_type": "execute_result"
        }
      ],
      "source": [
        "# top 5 highest rated courses\n",
        "course_stats.sort_values(by='bayesian_avg', ascending=False).head()"
      ]
    },
    {
      "cell_type": "code",
      "execution_count": 125,
      "metadata": {
        "id": "_KLA8OVv2Gzd"
      },
      "outputs": [
        {
          "data": {
            "text/html": [
              "<div>\n",
              "<style scoped>\n",
              "    .dataframe tbody tr th:only-of-type {\n",
              "        vertical-align: middle;\n",
              "    }\n",
              "\n",
              "    .dataframe tbody tr th {\n",
              "        vertical-align: top;\n",
              "    }\n",
              "\n",
              "    .dataframe thead th {\n",
              "        text-align: right;\n",
              "    }\n",
              "</style>\n",
              "<table border=\"1\" class=\"dataframe\">\n",
              "  <thead>\n",
              "    <tr style=\"text-align: right;\">\n",
              "      <th></th>\n",
              "      <th>courseId</th>\n",
              "      <th>count</th>\n",
              "      <th>mean</th>\n",
              "      <th>bayesian_avg</th>\n",
              "      <th>Course</th>\n",
              "    </tr>\n",
              "  </thead>\n",
              "  <tbody>\n",
              "    <tr>\n",
              "      <th>19</th>\n",
              "      <td>20</td>\n",
              "      <td>2345</td>\n",
              "      <td>2.920256</td>\n",
              "      <td>2.958</td>\n",
              "      <td>Ordinary Diploma in Taxation (ODTM)</td>\n",
              "    </tr>\n",
              "    <tr>\n",
              "      <th>4</th>\n",
              "      <td>5</td>\n",
              "      <td>2417</td>\n",
              "      <td>2.942077</td>\n",
              "      <td>2.968</td>\n",
              "      <td>Basic Technician Certificate in Accountancy (B...</td>\n",
              "    </tr>\n",
              "    <tr>\n",
              "      <th>2</th>\n",
              "      <td>3</td>\n",
              "      <td>2337</td>\n",
              "      <td>2.946085</td>\n",
              "      <td>2.971</td>\n",
              "      <td>Ordinary Diploma in Banking (ODB)</td>\n",
              "    </tr>\n",
              "    <tr>\n",
              "      <th>15</th>\n",
              "      <td>16</td>\n",
              "      <td>2379</td>\n",
              "      <td>2.949979</td>\n",
              "      <td>2.972</td>\n",
              "      <td>Ordinary Diploma in Social Protection (ODSP)</td>\n",
              "    </tr>\n",
              "    <tr>\n",
              "      <th>28</th>\n",
              "      <td>29</td>\n",
              "      <td>2352</td>\n",
              "      <td>2.951956</td>\n",
              "      <td>2.973</td>\n",
              "      <td>Postgraduate Diploma in Business Administratio...</td>\n",
              "    </tr>\n",
              "  </tbody>\n",
              "</table>\n",
              "</div>"
            ],
            "text/plain": [
              "    courseId  count      mean  bayesian_avg  \\\n",
              "19        20   2345  2.920256         2.958   \n",
              "4          5   2417  2.942077         2.968   \n",
              "2          3   2337  2.946085         2.971   \n",
              "15        16   2379  2.949979         2.972   \n",
              "28        29   2352  2.951956         2.973   \n",
              "\n",
              "                                               Course  \n",
              "19                Ordinary Diploma in Taxation (ODTM)  \n",
              "4   Basic Technician Certificate in Accountancy (B...  \n",
              "2                   Ordinary Diploma in Banking (ODB)  \n",
              "15       Ordinary Diploma in Social Protection (ODSP)  \n",
              "28  Postgraduate Diploma in Business Administratio...  "
            ]
          },
          "execution_count": 125,
          "metadata": {},
          "output_type": "execute_result"
        }
      ],
      "source": [
        "# top 5 lowest rated courses\n",
        "course_stats.sort_values(by='bayesian_avg', ascending=True).head()"
      ]
    },
    {
      "cell_type": "code",
      "execution_count": 126,
      "metadata": {
        "id": "ElBKsGDO3PG_"
      },
      "outputs": [
        {
          "data": {
            "text/html": [
              "<div>\n",
              "<style scoped>\n",
              "    .dataframe tbody tr th:only-of-type {\n",
              "        vertical-align: middle;\n",
              "    }\n",
              "\n",
              "    .dataframe tbody tr th {\n",
              "        vertical-align: top;\n",
              "    }\n",
              "\n",
              "    .dataframe thead th {\n",
              "        text-align: right;\n",
              "    }\n",
              "</style>\n",
              "<table border=\"1\" class=\"dataframe\">\n",
              "  <thead>\n",
              "    <tr style=\"text-align: right;\">\n",
              "      <th></th>\n",
              "      <th>courseId</th>\n",
              "      <th>Faculty</th>\n",
              "      <th>Course</th>\n",
              "      <th>Level</th>\n",
              "      <th>Related_Interests</th>\n",
              "    </tr>\n",
              "  </thead>\n",
              "  <tbody>\n",
              "    <tr>\n",
              "      <th>0</th>\n",
              "      <td>1</td>\n",
              "      <td>Accounting Banking and Finance</td>\n",
              "      <td>Bachelor of Accounting (B.Acc)</td>\n",
              "      <td>Undergraduate</td>\n",
              "      <td>[Financial Analysis, Auditing, Accounting, Cor...</td>\n",
              "    </tr>\n",
              "    <tr>\n",
              "      <th>1</th>\n",
              "      <td>2</td>\n",
              "      <td>Accounting Banking and Finance</td>\n",
              "      <td>Bachelor of Banking and Finance (BBF)</td>\n",
              "      <td>Undergraduate</td>\n",
              "      <td>[Investment Strategies, Financial Management, ...</td>\n",
              "    </tr>\n",
              "    <tr>\n",
              "      <th>2</th>\n",
              "      <td>3</td>\n",
              "      <td>Accounting Banking and Finance</td>\n",
              "      <td>Ordinary Diploma in Banking (ODB)</td>\n",
              "      <td>Diploma</td>\n",
              "      <td>[Commercial Banking, Retail Banking, Financial...</td>\n",
              "    </tr>\n",
              "    <tr>\n",
              "      <th>3</th>\n",
              "      <td>4</td>\n",
              "      <td>Accounting Banking and Finance</td>\n",
              "      <td>Ordinary Diploma in Accounting (ODA)</td>\n",
              "      <td>Diploma</td>\n",
              "      <td>[Financial Reporting, Cost Accounting, Bookkee...</td>\n",
              "    </tr>\n",
              "    <tr>\n",
              "      <th>4</th>\n",
              "      <td>5</td>\n",
              "      <td>Accounting Banking and Finance</td>\n",
              "      <td>Basic Technician Certificate in Accountancy (B...</td>\n",
              "      <td>Undergraduate</td>\n",
              "      <td>[Bookkeeping, Tax Preparation, Accounting, Fin...</td>\n",
              "    </tr>\n",
              "  </tbody>\n",
              "</table>\n",
              "</div>"
            ],
            "text/plain": [
              "   courseId                         Faculty  \\\n",
              "0         1  Accounting Banking and Finance   \n",
              "1         2  Accounting Banking and Finance   \n",
              "2         3  Accounting Banking and Finance   \n",
              "3         4  Accounting Banking and Finance   \n",
              "4         5  Accounting Banking and Finance   \n",
              "\n",
              "                                              Course          Level  \\\n",
              "0                     Bachelor of Accounting (B.Acc)  Undergraduate   \n",
              "1              Bachelor of Banking and Finance (BBF)  Undergraduate   \n",
              "2                  Ordinary Diploma in Banking (ODB)        Diploma   \n",
              "3               Ordinary Diploma in Accounting (ODA)        Diploma   \n",
              "4  Basic Technician Certificate in Accountancy (B...  Undergraduate   \n",
              "\n",
              "                                   Related_Interests  \n",
              "0  [Financial Analysis, Auditing, Accounting, Cor...  \n",
              "1  [Investment Strategies, Financial Management, ...  \n",
              "2  [Commercial Banking, Retail Banking, Financial...  \n",
              "3  [Financial Reporting, Cost Accounting, Bookkee...  \n",
              "4  [Bookkeeping, Tax Preparation, Accounting, Fin...  "
            ]
          },
          "execution_count": 126,
          "metadata": {},
          "output_type": "execute_result"
        }
      ],
      "source": [
        "courses['Related_Interests'] = courses['Related_Interests'].apply(lambda x: x.split('|'))\n",
        "courses.head()"
      ]
    },
    {
      "cell_type": "code",
      "execution_count": 127,
      "metadata": {
        "id": "wU7uHc-p4Wr2"
      },
      "outputs": [
        {
          "name": "stdout",
          "output_type": "stream",
          "text": [
            "There are 72 Related interests.\n"
          ]
        },
        {
          "data": {
            "text/plain": [
              "Counter({'Auditing': 10,\n",
              "         'Risk Assessment': 7,\n",
              "         'Social Policy': 7,\n",
              "         'Financial Analysis': 6,\n",
              "         'Risk Management': 6,\n",
              "         'Database Management': 6,\n",
              "         'Insurance Policies': 6,\n",
              "         'Corporate Finance': 5,\n",
              "         'Financial Reporting': 5,\n",
              "         'Network Administration': 5,\n",
              "         'Financial Planning': 5,\n",
              "         'Public Health': 5,\n",
              "         'Community Development': 5,\n",
              "         'Welfare Systems': 5,\n",
              "         'Investment Strategies': 4,\n",
              "         'Software Development': 4,\n",
              "         'IT Support': 4,\n",
              "         'Policy Analysis': 4,\n",
              "         'Tax Law': 4,\n",
              "         'Tax Consulting': 4,\n",
              "         'Accounting': 3,\n",
              "         'Financial Modeling': 3,\n",
              "         'Financial Management': 3,\n",
              "         'Commercial Banking': 3,\n",
              "         'Retail Banking': 3,\n",
              "         'Financial Services': 3,\n",
              "         'Investment Analysis': 3,\n",
              "         'Bookkeeping': 3,\n",
              "         'Taxation': 3,\n",
              "         'Cybersecurity': 3,\n",
              "         'Hardware Troubleshooting': 3,\n",
              "         'Software Installation': 3,\n",
              "         'Claims Management': 3,\n",
              "         'Underwriting': 3,\n",
              "         'Social Work': 3,\n",
              "         'Tax Compliance': 3,\n",
              "         'Cost Accounting': 2,\n",
              "         'Tax Preparation': 2,\n",
              "         'Data Analysis': 2,\n",
              "         'Algorithms': 2,\n",
              "         'Data Structures': 2,\n",
              "         'Systems Analysis': 2,\n",
              "         'Financial Mathematics': 2,\n",
              "         'Predictive Modeling': 2,\n",
              "         'Insurance Law': 2,\n",
              "         'Community Outreach': 2,\n",
              "         'Portfolio Management': 2,\n",
              "         'Organizational Behavior': 2,\n",
              "         'Recruitment': 2,\n",
              "         'Employee Development': 2,\n",
              "         'Performance Management': 2,\n",
              "         'International Trade': 2,\n",
              "         'Business Strategy': 2,\n",
              "         'Marketing': 2,\n",
              "         'Operations Management': 2,\n",
              "         'Banking': 1,\n",
              "         'Machine Learning': 1,\n",
              "         'Artificial Intelligence': 1,\n",
              "         'Web Development': 1,\n",
              "         'Database Design': 1,\n",
              "         'Statistics': 1,\n",
              "         'Public Finance': 1,\n",
              "         'Training and Development': 1,\n",
              "         'Global Finance': 1,\n",
              "         'Cross-Cultural Management': 1,\n",
              "         'Supply Chain Management': 1,\n",
              "         'Logistics': 1,\n",
              "         'Import/Export Regulations': 1,\n",
              "         'Human Resources': 1,\n",
              "         'Labor Relations': 1,\n",
              "         'Actuarial Science': 1,\n",
              "         'IT Project Management': 1})"
            ]
          },
          "execution_count": 127,
          "metadata": {},
          "output_type": "execute_result"
        }
      ],
      "source": [
        "from collections import Counter\n",
        "\n",
        "interest_frequency = Counter(i for interests in courses['Related_Interests'] for i in interests)\n",
        "\n",
        "print(f\"There are {len(interest_frequency)} Related interests.\")\n",
        "\n",
        "interest_frequency"
      ]
    },
    {
      "cell_type": "code",
      "execution_count": 128,
      "metadata": {
        "id": "BypApR1Z5TEt"
      },
      "outputs": [
        {
          "name": "stdout",
          "output_type": "stream",
          "text": [
            "The 5 most common interests: \n",
            " [('Auditing', 10), ('Risk Assessment', 7), ('Social Policy', 7), ('Financial Analysis', 6), ('Risk Management', 6)]\n"
          ]
        }
      ],
      "source": [
        "print(\"The 5 most common interests: \\n\", interest_frequency.most_common(5))"
      ]
    },
    {
      "cell_type": "code",
      "execution_count": 129,
      "metadata": {
        "id": "5A3X0cRv50OK"
      },
      "outputs": [
        {
          "data": {
            "text/plain": [
              "([0, 1, 2, 3, 4],\n",
              " [Text(0, 0, 'Auditing'),\n",
              "  Text(1, 0, 'Risk Assessment'),\n",
              "  Text(2, 0, 'Social Policy'),\n",
              "  Text(3, 0, 'Financial Analysis'),\n",
              "  Text(4, 0, 'Insurance Policies')])"
            ]
          },
          "execution_count": 129,
          "metadata": {},
          "output_type": "execute_result"
        },
        {
          "data": {
            "image/png": "[encoded data removed]",
            "text/plain": [
              "<Figure size 640x480 with 1 Axes>"
            ]
          },
          "metadata": {},
          "output_type": "display_data"
        }
      ],
      "source": [
        "interest_frequency_df = pd.DataFrame([interest_frequency]).T.reset_index()\n",
        "interest_frequency_df.columns= ['Related_Interests', 'count']\n",
        "\n",
        "sns.barplot(x='Related_Interests', y='count', data=interest_frequency_df.sort_values(by='count', ascending=False).head())\n",
        "plt.title(\"Distribution of Related Interests\", fontsize=14)\n",
        "plt.xticks(rotation=90)"
      ]
    },
    {
      "cell_type": "code",
      "execution_count": 130,
      "metadata": {
        "id": "WboAvRFC4XVX"
      },
      "outputs": [],
      "source": [
        "from scipy.sparse import csr_matrix\n",
        "\n",
        "def create_X(df):\n",
        "    \"\"\"\n",
        "    Generates a sparse matrix from ratings dataframe.\n",
        "\n",
        "    Args:\n",
        "        df: pandas dataframe containing 3 columns (userId, courseId, rating)\n",
        "\n",
        "    Returns:\n",
        "        X: sparse matrix\n",
        "        user_mapper: dict that maps user id's to user indices\n",
        "        user_inv_mapper: dict that maps user indices to user id's\n",
        "        course_mapper: dict that maps course id's to course indices\n",
        "        course_inv_mapper: dict that maps course indices to course id's\n",
        "    \"\"\"\n",
        "    M = df['userId'].nunique()\n",
        "    N = df['courseId'].nunique()\n",
        "\n",
        "    user_mapper = dict(zip(np.unique(df[\"userId\"]), list(range(M))))\n",
        "    course_mapper = dict(zip(np.unique(df[\"courseId\"]), list(range(N))))\n",
        "\n",
        "    user_inv_mapper = dict(zip(list(range(M)), np.unique(df[\"userId\"])))\n",
        "    course_inv_mapper = dict(zip(list(range(N)), np.unique(df[\"courseId\"])))\n",
        "\n",
        "    user_index = [user_mapper[i] for i in df['userId']]\n",
        "    item_index = [course_mapper[i] for i in df['courseId']]\n",
        "\n",
        "    X = csr_matrix((df[\"rating\"], (user_index,item_index)), shape=(M,N))\n",
        "\n",
        "    return X, user_mapper, course_mapper, user_inv_mapper, course_inv_mapper\n",
        "\n",
        "X, user_mapper, course_mapper, user_inv_mapper, course_inv_mapper = create_X(ratings)"
      ]
    },
    {
      "cell_type": "code",
      "execution_count": 131,
      "metadata": {
        "id": "Wm_4ZmeI5n9b"
      },
      "outputs": [
        {
          "data": {
            "text/plain": [
              "(19865, 42)"
            ]
          },
          "execution_count": 131,
          "metadata": {},
          "output_type": "execute_result"
        }
      ],
      "source": [
        "X.shape"
      ]
    },
    {
      "cell_type": "code",
      "execution_count": 132,
      "metadata": {
        "id": "dsT26IRr6_5v"
      },
      "outputs": [
        {
          "name": "stdout",
          "output_type": "stream",
          "text": [
            "Matrix sparsity: 11.31%\n"
          ]
        }
      ],
      "source": [
        "n_total =X.shape[0]*X.shape[1]\n",
        "n_ratings =X.nnz\n",
        "sparsity = n_ratings/n_total\n",
        "print(f\"Matrix sparsity: {round(sparsity*100,2)}%\")"
      ]
    },
    {
      "cell_type": "code",
      "execution_count": 133,
      "metadata": {
        "id": "XP7atdma9IxB"
      },
      "outputs": [
        {
          "data": {
            "text/plain": [
              "19865"
            ]
          },
          "execution_count": 133,
          "metadata": {},
          "output_type": "execute_result"
        }
      ],
      "source": [
        "n_ratings_per_user = X.getnnz(axis=1)\n",
        "len(n_ratings_per_user)"
      ]
    },
    {
      "cell_type": "code",
      "execution_count": 134,
      "metadata": {
        "id": "NVTQXqeS8XXt"
      },
      "outputs": [
        {
          "data": {
            "text/plain": [
              "42"
            ]
          },
          "execution_count": 134,
          "metadata": {},
          "output_type": "execute_result"
        }
      ],
      "source": [
        "n_ratings_per_course = X.getnnz(axis=0)\n",
        "len(n_ratings_per_course)"
      ]
    },
    {
      "cell_type": "code",
      "execution_count": 135,
      "metadata": {
        "id": "OVxuYAYh8nkc"
      },
      "outputs": [
        {
          "name": "stdout",
          "output_type": "stream",
          "text": [
            "Most rated course has 2345 ratings.\n",
            "Least rated course has 2140 ratings.\n"
          ]
        }
      ],
      "source": [
        "print(f\"Most rated course has {n_ratings_per_course.max()} ratings.\")\n",
        "print(f\"Least rated course has {n_ratings_per_course.min()} ratings.\")"
      ]
    },
    {
      "cell_type": "code",
      "execution_count": 136,
      "metadata": {
        "id": "oEWJekEo846I"
      },
      "outputs": [
        {
          "data": {
            "image/png": "[encoded data removed]",
            "text/plain": [
              "<Figure size 1600x400 with 2 Axes>"
            ]
          },
          "metadata": {},
          "output_type": "display_data"
        }
      ],
      "source": [
        "plt.figure(figsize=(16,4))\n",
        "plt.subplot(1,2,1)\n",
        "sns.kdeplot(n_ratings_per_user, fill=True)\n",
        "plt.xlim(0)\n",
        "plt.title(\"Number of Ratings Per User\", fontsize=14)\n",
        "plt.xlabel(\"number of ratings per user\")\n",
        "plt.ylabel(\"density\")\n",
        "plt.subplot(1,2,2)\n",
        "sns.kdeplot(n_ratings_per_course, fill=True)\n",
        "plt.xlim(0)\n",
        "plt.title(\"Number of Ratings Per course\", fontsize=14)\n",
        "plt.xlabel(\"number of ratings per course\")\n",
        "plt.ylabel(\"density\")\n",
        "plt.show()"
      ]
    },
    {
      "cell_type": "code",
      "execution_count": 138,
      "metadata": {
        "id": "9NKRj0rNDhhR"
      },
      "outputs": [],
      "source": [
        "from sklearn.neighbors import NearestNeighbors\n",
        "\n",
        "def find_similar_courses(course_id, X, course_mapper, course_inv_mapper, k, metric='cosine'):\n",
        "    \"\"\"\n",
        "    Finds k-nearest neighbours for a given course id.\n",
        "\n",
        "    Args:\n",
        "        course_id: id of the course of interest\n",
        "        X: user-item utility matrix\n",
        "        k: number of similar courses to retrieve\n",
        "        metric: distance metric for kNN calculations\n",
        "\n",
        "    Output: returns list of k similar course ID's\n",
        "    \"\"\"\n",
        "    X = X.T\n",
        "    neighbour_ids = []\n",
        "\n",
        "    course_ind = course_mapper[course_id]\n",
        "    course_vec = X[course_ind]\n",
        "    if isinstance(course_vec, (np.ndarray)):\n",
        "        course_vec = course_vec.reshape(1,-1)\n",
        "    # use k+1 since kNN output includes the courseId of interest\n",
        "    kNN = NearestNeighbors(n_neighbors=k+1, algorithm=\"brute\", metric=metric)\n",
        "    kNN.fit(X)\n",
        "    neighbour = kNN.kneighbors(course_vec, return_distance=False)\n",
        "    for i in range(0,k):\n",
        "        n = neighbour.item(i)\n",
        "        neighbour_ids.append(course_inv_mapper[n])\n",
        "    neighbour_ids.pop(0)\n",
        "    return neighbour_ids"
      ]
    },
    {
      "cell_type": "code",
      "execution_count": 139,
      "metadata": {
        "id": "WK6mUTDkERn1"
      },
      "outputs": [
        {
          "data": {
            "text/plain": [
              "[30, 21, 7, 24, 41, 19, 8, 10, 42]"
            ]
          },
          "execution_count": 139,
          "metadata": {},
          "output_type": "execute_result"
        }
      ],
      "source": [
        "similar_courses = find_similar_courses(1, X, course_mapper, course_inv_mapper, k=10)\n",
        "similar_courses"
      ]
    },
    {
      "cell_type": "code",
      "execution_count": 140,
      "metadata": {
        "colab": {
          "base_uri": "https://localhost:8080/"
        },
        "id": "Cly6Bw4GExxD",
        "outputId": "4d5df446-2569-4893-916d-5078affe5561"
      },
      "outputs": [
        {
          "name": "stdout",
          "output_type": "stream",
          "text": [
            "Because you selected Bachelor of Accounting (B.Acc):\n",
            "Postgraduate Diploma in Human Resources Management (PGDHRM)\n",
            "MSc in Finance and Investment\n",
            "Bachelor of Science in Information Technology (BSc IT)\n",
            "Postgraduate Diploma in Financial Management (PGDFM)\n",
            "Certificate in Social Protection\n",
            "Bachelor of Science in Taxation (BSc Taxation)\n",
            "Bachelor in Computer Science (BSc CS)\n",
            "Ordinary Diploma in Computer Science (ODCS)\n",
            "Basic Technician Certificate in Computing and Information Technology\n"
          ]
        }
      ],
      "source": [
        "# using cosine metrics\n",
        "course_titles = dict(zip(courses['courseId'], courses['Course']))\n",
        "# course_titles\n",
        "course_id = 1\n",
        "\n",
        "similar_courses = find_similar_courses(course_id, X, course_mapper, course_inv_mapper, metric='cosine', k=10)\n",
        "course_title = course_titles[course_id]\n",
        "\n",
        "print(f\"Because you selected {course_title}:\")\n",
        "for i in similar_courses:\n",
        "  print(course_titles[i])"
      ]
    },
    {
      "cell_type": "code",
      "execution_count": 141,
      "metadata": {
        "colab": {
          "base_uri": "https://localhost:8080/"
        },
        "id": "5CeBVXlQHJ4Q",
        "outputId": "3e04caf9-7677-47d6-a319-836f8fa911b2"
      },
      "outputs": [
        {
          "name": "stdout",
          "output_type": "stream",
          "text": [
            "Because you selected Bachelor of Accounting (B.Acc):\n",
            "Bachelor of Science in Information Technology (BSc IT)\n",
            "Ordinary Diploma in Taxation (ODTM)\n",
            "Bachelor in Computer Science (BSc CS)\n",
            "Ordinary Diploma in Banking (ODB)\n",
            "Certificate in Taxation\n",
            "Postgraduate Diploma in Business Administration (PGDBA)\n",
            "Bachelor of Science in Taxation (BSc Taxation)\n",
            "Postgraduate Diploma in Tax Management (PGDTM)\n",
            "MSc in Finance and Investment\n"
          ]
        }
      ],
      "source": [
        "# using euclidean, you can replace it with manhattan for another view\n",
        "course_titles = dict(zip(courses['courseId'], courses['Course']))\n",
        "# course_titles\n",
        "course_id = 1\n",
        "\n",
        "similar_courses = find_similar_courses(course_id, X, course_mapper, course_inv_mapper, metric='euclidean', k=10)\n",
        "course_title = course_titles[course_id]\n",
        "\n",
        "print(f\"Because you selected {course_title}:\")\n",
        "for i in similar_courses:\n",
        "  print(course_titles[i])"
      ]
    },
    {
      "cell_type": "code",
      "execution_count": 142,
      "metadata": {
        "id": "XwA8DcCwOA4F"
      },
      "outputs": [],
      "source": [
        "interests = set(i for I in courses['Related_Interests'] for i in I)\n",
        "# interests\n",
        "for i in interests:\n",
        "    courses[i] = courses.Related_Interests.transform(lambda x: int(i in x))\n",
        "\n",
        "course_interests = courses.drop(columns=['courseId', 'Course','Related_Interests', 'Faculty', 'Level'])"
      ]
    },
    {
      "cell_type": "code",
      "execution_count": 143,
      "metadata": {
        "colab": {
          "base_uri": "https://localhost:8080/",
          "height": 290
        },
        "id": "kmGv7MMXP93w",
        "outputId": "ff8ea175-b1e1-49c7-b5b0-b68f194b3684"
      },
      "outputs": [
        {
          "data": {
            "text/html": [
              "<div>\n",
              "<style scoped>\n",
              "    .dataframe tbody tr th:only-of-type {\n",
              "        vertical-align: middle;\n",
              "    }\n",
              "\n",
              "    .dataframe tbody tr th {\n",
              "        vertical-align: top;\n",
              "    }\n",
              "\n",
              "    .dataframe thead th {\n",
              "        text-align: right;\n",
              "    }\n",
              "</style>\n",
              "<table border=\"1\" class=\"dataframe\">\n",
              "  <thead>\n",
              "    <tr style=\"text-align: right;\">\n",
              "      <th></th>\n",
              "      <th>Employee Development</th>\n",
              "      <th>Tax Compliance</th>\n",
              "      <th>Public Health</th>\n",
              "      <th>Social Policy</th>\n",
              "      <th>Investment Strategies</th>\n",
              "      <th>Financial Analysis</th>\n",
              "      <th>Social Work</th>\n",
              "      <th>Organizational Behavior</th>\n",
              "      <th>IT Project Management</th>\n",
              "      <th>Recruitment</th>\n",
              "      <th>...</th>\n",
              "      <th>Welfare Systems</th>\n",
              "      <th>Insurance Law</th>\n",
              "      <th>Data Structures</th>\n",
              "      <th>Tax Consulting</th>\n",
              "      <th>Banking</th>\n",
              "      <th>Risk Management</th>\n",
              "      <th>Commercial Banking</th>\n",
              "      <th>Actuarial Science</th>\n",
              "      <th>Software Development</th>\n",
              "      <th>Retail Banking</th>\n",
              "    </tr>\n",
              "  </thead>\n",
              "  <tbody>\n",
              "    <tr>\n",
              "      <th>0</th>\n",
              "      <td>0</td>\n",
              "      <td>0</td>\n",
              "      <td>0</td>\n",
              "      <td>0</td>\n",
              "      <td>0</td>\n",
              "      <td>1</td>\n",
              "      <td>0</td>\n",
              "      <td>0</td>\n",
              "      <td>0</td>\n",
              "      <td>0</td>\n",
              "      <td>...</td>\n",
              "      <td>0</td>\n",
              "      <td>0</td>\n",
              "      <td>0</td>\n",
              "      <td>0</td>\n",
              "      <td>0</td>\n",
              "      <td>0</td>\n",
              "      <td>0</td>\n",
              "      <td>0</td>\n",
              "      <td>0</td>\n",
              "      <td>0</td>\n",
              "    </tr>\n",
              "    <tr>\n",
              "      <th>1</th>\n",
              "      <td>0</td>\n",
              "      <td>0</td>\n",
              "      <td>0</td>\n",
              "      <td>0</td>\n",
              "      <td>1</td>\n",
              "      <td>0</td>\n",
              "      <td>0</td>\n",
              "      <td>0</td>\n",
              "      <td>0</td>\n",
              "      <td>0</td>\n",
              "      <td>...</td>\n",
              "      <td>0</td>\n",
              "      <td>0</td>\n",
              "      <td>0</td>\n",
              "      <td>0</td>\n",
              "      <td>1</td>\n",
              "      <td>1</td>\n",
              "      <td>0</td>\n",
              "      <td>0</td>\n",
              "      <td>0</td>\n",
              "      <td>0</td>\n",
              "    </tr>\n",
              "    <tr>\n",
              "      <th>2</th>\n",
              "      <td>0</td>\n",
              "      <td>0</td>\n",
              "      <td>0</td>\n",
              "      <td>0</td>\n",
              "      <td>0</td>\n",
              "      <td>0</td>\n",
              "      <td>0</td>\n",
              "      <td>0</td>\n",
              "      <td>0</td>\n",
              "      <td>0</td>\n",
              "      <td>...</td>\n",
              "      <td>0</td>\n",
              "      <td>0</td>\n",
              "      <td>0</td>\n",
              "      <td>0</td>\n",
              "      <td>0</td>\n",
              "      <td>1</td>\n",
              "      <td>1</td>\n",
              "      <td>0</td>\n",
              "      <td>0</td>\n",
              "      <td>1</td>\n",
              "    </tr>\n",
              "    <tr>\n",
              "      <th>3</th>\n",
              "      <td>0</td>\n",
              "      <td>0</td>\n",
              "      <td>0</td>\n",
              "      <td>0</td>\n",
              "      <td>0</td>\n",
              "      <td>0</td>\n",
              "      <td>0</td>\n",
              "      <td>0</td>\n",
              "      <td>0</td>\n",
              "      <td>0</td>\n",
              "      <td>...</td>\n",
              "      <td>0</td>\n",
              "      <td>0</td>\n",
              "      <td>0</td>\n",
              "      <td>0</td>\n",
              "      <td>0</td>\n",
              "      <td>0</td>\n",
              "      <td>0</td>\n",
              "      <td>0</td>\n",
              "      <td>0</td>\n",
              "      <td>0</td>\n",
              "    </tr>\n",
              "    <tr>\n",
              "      <th>4</th>\n",
              "      <td>0</td>\n",
              "      <td>0</td>\n",
              "      <td>0</td>\n",
              "      <td>0</td>\n",
              "      <td>0</td>\n",
              "      <td>0</td>\n",
              "      <td>0</td>\n",
              "      <td>0</td>\n",
              "      <td>0</td>\n",
              "      <td>0</td>\n",
              "      <td>...</td>\n",
              "      <td>0</td>\n",
              "      <td>0</td>\n",
              "      <td>0</td>\n",
              "      <td>0</td>\n",
              "      <td>0</td>\n",
              "      <td>0</td>\n",
              "      <td>0</td>\n",
              "      <td>0</td>\n",
              "      <td>0</td>\n",
              "      <td>0</td>\n",
              "    </tr>\n",
              "  </tbody>\n",
              "</table>\n",
              "<p>5 rows × 72 columns</p>\n",
              "</div>"
            ],
            "text/plain": [
              "   Employee Development  Tax Compliance  Public Health  Social Policy  \\\n",
              "0                     0               0              0              0   \n",
              "1                     0               0              0              0   \n",
              "2                     0               0              0              0   \n",
              "3                     0               0              0              0   \n",
              "4                     0               0              0              0   \n",
              "\n",
              "   Investment Strategies  Financial Analysis  Social Work  \\\n",
              "0                      0                   1            0   \n",
              "1                      1                   0            0   \n",
              "2                      0                   0            0   \n",
              "3                      0                   0            0   \n",
              "4                      0                   0            0   \n",
              "\n",
              "   Organizational Behavior  IT Project Management  Recruitment  ...  \\\n",
              "0                        0                      0            0  ...   \n",
              "1                        0                      0            0  ...   \n",
              "2                        0                      0            0  ...   \n",
              "3                        0                      0            0  ...   \n",
              "4                        0                      0            0  ...   \n",
              "\n",
              "   Welfare Systems  Insurance Law  Data Structures  Tax Consulting  Banking  \\\n",
              "0                0              0                0               0        0   \n",
              "1                0              0                0               0        1   \n",
              "2                0              0                0               0        0   \n",
              "3                0              0                0               0        0   \n",
              "4                0              0                0               0        0   \n",
              "\n",
              "   Risk Management  Commercial Banking  Actuarial Science  \\\n",
              "0                0                   0                  0   \n",
              "1                1                   0                  0   \n",
              "2                1                   1                  0   \n",
              "3                0                   0                  0   \n",
              "4                0                   0                  0   \n",
              "\n",
              "   Software Development  Retail Banking  \n",
              "0                     0               0  \n",
              "1                     0               0  \n",
              "2                     0               1  \n",
              "3                     0               0  \n",
              "4                     0               0  \n",
              "\n",
              "[5 rows x 72 columns]"
            ]
          },
          "execution_count": 143,
          "metadata": {},
          "output_type": "execute_result"
        }
      ],
      "source": [
        "course_interests.head()"
      ]
    },
    {
      "cell_type": "code",
      "execution_count": 144,
      "metadata": {
        "colab": {
          "base_uri": "https://localhost:8080/"
        },
        "id": "CFoqkqBhRdtq",
        "outputId": "5bea6ed6-a657-4815-f1a4-cd8beab2f5fa"
      },
      "outputs": [
        {
          "name": "stdout",
          "output_type": "stream",
          "text": [
            "Dimensions of our interests cosine similarity matrix: (42, 42)\n"
          ]
        }
      ],
      "source": [
        "from sklearn.metrics.pairwise import cosine_similarity\n",
        "\n",
        "cosine_sim = cosine_similarity(course_interests, course_interests)\n",
        "print(f\"Dimensions of our interests cosine similarity matrix: {cosine_sim.shape}\")"
      ]
    },
    {
      "cell_type": "code",
      "execution_count": 157,
      "metadata": {
        "id": "AqZaxXewSo7O"
      },
      "outputs": [],
      "source": [
        "from fuzzywuzzy import process\n",
        "import Levenshtein\n",
        "\n",
        "def course_finder(title):\n",
        "    all_titles = courses['Course'].tolist()\n",
        "    closest_match = process.extractOne(title, all_titles)\n",
        "    return closest_match[0]"
      ]
    },
    {
      "cell_type": "code",
      "execution_count": 147,
      "metadata": {
        "colab": {
          "base_uri": "https://localhost:8080/",
          "height": 36
        },
        "id": "GZzHEu84TpDm",
        "outputId": "016bea75-e859-4e48-acdd-c5712893a3e6"
      },
      "outputs": [
        {
          "data": {
            "text/plain": [
              "'Bachelor of Banking and Finance (BBF)'"
            ]
          },
          "execution_count": 147,
          "metadata": {},
          "output_type": "execute_result"
        }
      ],
      "source": [
        "title = course_finder('finance')\n",
        "title"
      ]
    },
    {
      "cell_type": "code",
      "execution_count": 148,
      "metadata": {
        "colab": {
          "base_uri": "https://localhost:8080/"
        },
        "id": "G_cbIwLTUHlF",
        "outputId": "46ae6b3e-12fc-4daa-d5a6-638583e89b14"
      },
      "outputs": [
        {
          "name": "stdout",
          "output_type": "stream",
          "text": [
            "course index for Account: 1\n"
          ]
        }
      ],
      "source": [
        "course_idx = dict(zip(courses['Course'], list(courses.index)))\n",
        "idx = course_idx[title]\n",
        "print(f\"course index for Account: {idx}\")"
      ]
    },
    {
      "cell_type": "code",
      "execution_count": 149,
      "metadata": {
        "colab": {
          "base_uri": "https://localhost:8080/"
        },
        "id": "XeAI582ZUrnE",
        "outputId": "29dee456-30b8-400d-cd69-0d9fe2fff7d3"
      },
      "outputs": [
        {
          "data": {
            "text/plain": [
              "[(23, 0.7999999999999999),\n",
              " (20, 0.39999999999999997),\n",
              " (22, 0.39999999999999997),\n",
              " (0, 0.19999999999999998),\n",
              " (2, 0.19999999999999998),\n",
              " (5, 0.19999999999999998),\n",
              " (21, 0.19999999999999998),\n",
              " (28, 0.19999999999999998),\n",
              " (36, 0.19999999999999998),\n",
              " (3, 0.0)]"
            ]
          },
          "execution_count": 149,
          "metadata": {},
          "output_type": "execute_result"
        }
      ],
      "source": [
        "n_recommendations=10\n",
        "sim_scores = list(enumerate(cosine_sim[idx]))\n",
        "sim_scores = sorted(sim_scores, key=lambda x: x[1], reverse=True)\n",
        "sim_scores=sim_scores[1:n_recommendations+1]\n",
        "sim_scores\n"
      ]
    },
    {
      "cell_type": "code",
      "execution_count": 150,
      "metadata": {
        "colab": {
          "base_uri": "https://localhost:8080/"
        },
        "id": "xxBceMJyVuCB",
        "outputId": "e72b882b-0486-4274-c5f7-f6ccb256db76"
      },
      "outputs": [
        {
          "data": {
            "text/plain": [
              "[23, 20, 22, 0, 2, 5, 21, 28, 36, 3]"
            ]
          },
          "execution_count": 150,
          "metadata": {},
          "output_type": "execute_result"
        }
      ],
      "source": [
        "similar_courses= [i[0] for i in sim_scores]\n",
        "similar_courses"
      ]
    },
    {
      "cell_type": "code",
      "execution_count": 151,
      "metadata": {
        "colab": {
          "base_uri": "https://localhost:8080/"
        },
        "id": "TBj0bXkBV_6f",
        "outputId": "98e020d7-760f-4bcf-9293-4703026c4a84"
      },
      "outputs": [
        {
          "name": "stdout",
          "output_type": "stream",
          "text": [
            "Because you selected Bachelor of Banking and Finance (BBF):\n"
          ]
        },
        {
          "data": {
            "text/plain": [
              "23    Postgraduate Diploma in Financial Management (...\n",
              "20                        MSc in Finance and Investment\n",
              "22                                       MSc in Finance\n",
              "0                        Bachelor of Accounting (B.Acc)\n",
              "2                     Ordinary Diploma in Banking (ODB)\n",
              "5     Basic Technician Certificate in Banking and Fi...\n",
              "21                        MSc in Accounting and Finance\n",
              "28    Postgraduate Diploma in Business Administratio...\n",
              "36                   Certificate in Banking and Finance\n",
              "3                  Ordinary Diploma in Accounting (ODA)\n",
              "Name: Course, dtype: object"
            ]
          },
          "execution_count": 151,
          "metadata": {},
          "output_type": "execute_result"
        }
      ],
      "source": [
        "print(f\"Because you selected {title}:\")\n",
        "courses['Course'].iloc[similar_courses]"
      ]
    },
    {
      "cell_type": "code",
      "execution_count": 152,
      "metadata": {
        "id": "kUulltPPWcTh"
      },
      "outputs": [],
      "source": [
        "def get_content_based_recommendations(title_string, n_recommendations=10):\n",
        "    title = course_finder(title_string)\n",
        "    idx = course_idx[title]\n",
        "    sim_scores = list(enumerate(cosine_sim[idx]))\n",
        "    sim_scores = sorted(sim_scores, key=lambda x: x[1], reverse=True)\n",
        "    sim_scores = sim_scores[1:(n_recommendations+1)]\n",
        "    similar_courses = [i[0] for i in sim_scores]\n",
        "    print(f\"Because you selected {title}:\")\n",
        "    print(courses['Course'].iloc[similar_courses])"
      ]
    },
    {
      "cell_type": "code",
      "execution_count": 153,
      "metadata": {
        "colab": {
          "base_uri": "https://localhost:8080/"
        },
        "id": "4k-SYjX7Wnq6",
        "outputId": "4d586572-2de5-442a-8c44-0ba181f8bab8"
      },
      "outputs": [
        {
          "name": "stdout",
          "output_type": "stream",
          "text": [
            "Because you selected Bachelor of Science in Information Technology (BSc IT):\n",
            "8     Ordinary Diploma in Information Technology (ODIT)\n",
            "34    MSc in Information Technology and Management (...\n",
            "10    Basic Technician Certificate in Computing and ...\n",
            "38    Certificate in Computer and Information Techno...\n",
            "41    Basic Technician Certificate in Computing and ...\n",
            "Name: Course, dtype: object\n"
          ]
        }
      ],
      "source": [
        "# provide the course keywords and how many recommendations you would like to\n",
        "# generate\n",
        "get_content_based_recommendations('it', 5)"
      ]
    },
    {
      "cell_type": "code",
      "execution_count": 154,
      "metadata": {
        "colab": {
          "base_uri": "https://localhost:8080/"
        },
        "id": "THkV5KkHcYLE",
        "outputId": "fc6245db-ebc6-4954-c364-e7a03c979d28"
      },
      "outputs": [
        {
          "data": {
            "text/plain": [
              "(42, 20)"
            ]
          },
          "execution_count": 154,
          "metadata": {},
          "output_type": "execute_result"
        }
      ],
      "source": [
        "from sklearn.decomposition import TruncatedSVD\n",
        "\n",
        "svd = TruncatedSVD(n_components=20, n_iter=10)\n",
        "Q = svd.fit_transform(X.T)\n",
        "Q.shape"
      ]
    },
    {
      "cell_type": "code",
      "execution_count": 155,
      "metadata": {
        "colab": {
          "base_uri": "https://localhost:8080/"
        },
        "id": "1hQt6jD6fCTF",
        "outputId": "6c162c8d-78c7-41b5-d7a6-76d3f3cb5792"
      },
      "outputs": [
        {
          "name": "stdout",
          "output_type": "stream",
          "text": [
            "Because you selected Bachelor of Accounting (B.Acc) similar courses are:\n",
            "Basic Technician Certificate in Computing and Information Technology\n",
            "Ordinary Diploma in Taxation (ODTM)\n",
            "Certificate in Social Protection\n",
            "MSc in Finance\n",
            "Postgraduate Diploma in Business Administration (PGDBA)\n",
            "MSc in Finance and Investment\n",
            "Bachelor in Computer Science (BSc CS)\n",
            "Bachelor of Banking and Finance (BBF)\n",
            "Postgraduate Diploma in Tax Management (PGDTM)\n"
          ]
        }
      ],
      "source": [
        "course_id = 1\n",
        "similar_courses = find_similar_courses(course_id, Q.T, course_mapper, course_inv_mapper, metric='cosine', k=10)\n",
        "course_title = course_titles[course_id]\n",
        "\n",
        "print(f\"Because you selected {course_title} similar courses are:\")\n",
        "for i in similar_courses:\n",
        "    print(course_titles[i])"
      ]
    }
  ],
  "metadata": {
    "colab": {
      "provenance": []
    },
    "kernelspec": {
      "display_name": "Python 3",
      "name": "python3"
    },
    "language_info": {
      "codemirror_mode": {
        "name": "ipython",
        "version": 3
      },
      "file_extension": ".py",
      "mimetype": "text/x-python",
      "name": "python",
      "nbconvert_exporter": "python",
      "pygments_lexer": "ipython3",
      "version": "3.12.3"
    }
  },
  "nbformat": 4,
  "nbformat_minor": 0
}
