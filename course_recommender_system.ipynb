{
  "cells": [
    {
      "cell_type": "code",
      "execution_count": null,
      "metadata": {
        "id": "G2CrFZOPP-ZV"
      },
      "outputs": [],
      "source": [
        "import numpy as np\n",
        "import pandas as pd\n",
        "import matplotlib.pyplot as plt\n",
        "import seaborn as sns"
      ]
    },
    {
      "cell_type": "code",
      "execution_count": null,
      "metadata": {
        "id": "SvlCSIn6RIE_"
      },
      "outputs": [],
      "source": [
        "ratings = pd.read_csv('ratings (2).csv')"
      ]
    },
    {
      "cell_type": "code",
      "execution_count": null,
      "metadata": {
        "id": "75kXzbV4RM_j"
      },
      "outputs": [],
      "source": [
        "courses = pd.read_csv('courses.csv')"
      ]
    },
    {
      "cell_type": "code",
      "execution_count": null,
      "metadata": {
        "id": "coiokRySR-ld"
      },
      "outputs": [],
      "source": [
        "courses.head()"
      ]
    },
    {
      "cell_type": "code",
      "execution_count": null,
      "metadata": {
        "id": "kk1oRtliRszj"
      },
      "outputs": [],
      "source": [
        "ratings.head()"
      ]
    },
    {
      "cell_type": "code",
      "execution_count": null,
      "metadata": {
        "id": "LUdhx_fZUuLN"
      },
      "outputs": [],
      "source": [
        "n_ratings = len(ratings)\n",
        "n_courses = ratings['courseId'].nunique()\n",
        "n_users = ratings['userId'].nunique()\n",
        "\n",
        "print(f\"Number of ratings: {n_ratings}\")\n",
        "print(f\"Number of unique courses: {n_courses}\")\n",
        "print(f\"Number of unique users: {n_users}\")\n",
        "print(f\"Average number of ratings per user: {round(n_ratings/n_users, 2)}\")\n",
        "print(f\"Average number of ratings per course: {round(n_ratings/n_courses, 2)}\")"
      ]
    },
    {
      "cell_type": "code",
      "execution_count": null,
      "metadata": {
        "id": "GAltCTELlZBl"
      },
      "outputs": [],
      "source": [
        "sns.countplot(x='rating', data=ratings)\n",
        "plt.title(\"Distribution of course ratings\", fontsize=14)\n",
        "plt.show()"
      ]
    },
    {
      "cell_type": "code",
      "execution_count": null,
      "metadata": {
        "id": "f0L9_se9wnjD"
      },
      "outputs": [],
      "source": [
        "print(f\"Mean global rating: {round(ratings['rating'].mean(),2)}.\")"
      ]
    },
    {
      "cell_type": "code",
      "execution_count": null,
      "metadata": {
        "id": "LUeg4UlKwtpy"
      },
      "outputs": [],
      "source": [
        "mean_ratings = ratings.groupby('userId')['rating'].mean()\n",
        "print(f\"Mean rating per user: {round(mean_ratings.mean(),2)}.\")"
      ]
    },
    {
      "cell_type": "code",
      "execution_count": null,
      "metadata": {
        "id": "cu0yf8bExTY6"
      },
      "outputs": [],
      "source": [
        "ratings['courseId'].value_counts()"
      ]
    },
    {
      "cell_type": "code",
      "execution_count": null,
      "metadata": {
        "id": "Hy6zR71T1gVS"
      },
      "outputs": [],
      "source": [
        "course_ratings = ratings.merge(courses, on='courseId')\n",
        "# course_ratings\n",
        "course_ratings['Course'].value_counts()[0:10]"
      ]
    },
    {
      "cell_type": "code",
      "execution_count": null,
      "metadata": {
        "id": "tikO5NuL5jWU"
      },
      "outputs": [],
      "source": [
        "mean_ratings = ratings.groupby('courseId')[['rating']].mean()\n",
        "lowest_rated = mean_ratings['rating'].idxmin()\n",
        "# mean_ratings\n",
        "courses[courses['courseId'] == lowest_rated]"
      ]
    },
    {
      "cell_type": "code",
      "execution_count": null,
      "metadata": {
        "id": "CTFn_LRo6VFH"
      },
      "outputs": [],
      "source": [
        "highest_rated = mean_ratings['rating'].idxmax()\n",
        "\n",
        "courses[courses['courseId'] == highest_rated]"
      ]
    },
    {
      "cell_type": "code",
      "execution_count": null,
      "metadata": {
        "id": "-IXwQwhW7HMb"
      },
      "outputs": [],
      "source": [
        "ratings[ratings['courseId']==highest_rated]"
      ]
    },
    {
      "cell_type": "code",
      "execution_count": null,
      "metadata": {
        "id": "4_Fby06W8kLQ"
      },
      "outputs": [],
      "source": [
        "course_stats = ratings.groupby('courseId')['rating'].agg(['count', 'mean'])\n",
        "course_stats.head()"
      ]
    },
    {
      "cell_type": "code",
      "execution_count": null,
      "metadata": {
        "id": "lJ0EyygT9Kze"
      },
      "outputs": [],
      "source": [
        "C = course_stats['count'].mean()\n",
        "m = course_stats['mean'].mean()\n",
        "\n",
        "print(f\"Average number of ratings for a given course: {C:.2f}\")\n",
        "print(f\"Average rating for a given course: {m:.2f}\")\n",
        "\n",
        "def bayesian_avg(ratings):\n",
        "    bayesian_avg = (C*m + ratings.sum())/(C+ratings.count())\n",
        "    return round(bayesian_avg, 3)"
      ]
    },
    {
      "cell_type": "code",
      "execution_count": null,
      "metadata": {
        "id": "yfz1wgl2-Qcc"
      },
      "outputs": [],
      "source": [
        "# these are the two ratings for highest rated course\n",
        "highest_rated = pd.Series([5,5])\n",
        "bayesian_avg(highest_rated)"
      ]
    },
    {
      "cell_type": "code",
      "execution_count": null,
      "metadata": {
        "id": "JLfpIwRxyEMQ"
      },
      "outputs": [],
      "source": [
        "bayesian_avg_ratings = ratings.groupby('courseId')['rating'].agg(bayesian_avg).reset_index()\n",
        "bayesian_avg_ratings.columns = ['courseId', 'bayesian_avg']\n",
        "course_stats = course_stats.merge(bayesian_avg_ratings, on='courseId')"
      ]
    },
    {
      "cell_type": "code",
      "execution_count": null,
      "metadata": {
        "id": "atj1YuT60HIg"
      },
      "outputs": [],
      "source": [
        "course_stats = course_stats.merge(courses[['courseId', 'Course']])\n",
        "# course_stats.sort_values()"
      ]
    },
    {
      "cell_type": "code",
      "execution_count": null,
      "metadata": {
        "id": "OChHgymN0yPb"
      },
      "outputs": [],
      "source": [
        "course_stats.sort_values(by='bayesian_avg')"
      ]
    },
    {
      "cell_type": "code",
      "execution_count": null,
      "metadata": {
        "id": "nQVBRINJzy6-"
      },
      "outputs": [],
      "source": [
        "# top 5 highest rated courses\n",
        "course_stats.sort_values(by='bayesian_avg', ascending=False).head()"
      ]
    },
    {
      "cell_type": "code",
      "execution_count": null,
      "metadata": {
        "id": "_KLA8OVv2Gzd"
      },
      "outputs": [],
      "source": [
        "# top 5 lowest rated courses\n",
        "course_stats.sort_values(by='bayesian_avg', ascending=True).head()"
      ]
    },
    {
      "cell_type": "code",
      "execution_count": null,
      "metadata": {
        "id": "ElBKsGDO3PG_"
      },
      "outputs": [],
      "source": [
        "courses['Related_Interests'] = courses['Related_Interests'].apply(lambda x: x.split('|'))\n",
        "courses.head()"
      ]
    },
    {
      "cell_type": "code",
      "execution_count": null,
      "metadata": {
        "id": "wU7uHc-p4Wr2"
      },
      "outputs": [],
      "source": [
        "from collections import Counter\n",
        "\n",
        "interest_frequency = Counter(i for interests in courses['Related_Interests'] for i in interests)\n",
        "\n",
        "print(f\"There are {len(interest_frequency)} Related interests.\")\n",
        "\n",
        "interest_frequency"
      ]
    },
    {
      "cell_type": "code",
      "execution_count": null,
      "metadata": {
        "id": "BypApR1Z5TEt"
      },
      "outputs": [],
      "source": [
        "print(\"The 5 most common interests: \\n\", interest_frequency.most_common(5))"
      ]
    },
    {
      "cell_type": "code",
      "execution_count": null,
      "metadata": {
        "id": "5A3X0cRv50OK"
      },
      "outputs": [],
      "source": [
        "interest_frequency_df = pd.DataFrame([interest_frequency]).T.reset_index()\n",
        "interest_frequency_df.columns= ['Related_Interests', 'count']\n",
        "\n",
        "sns.barplot(x='Related_Interests', y='count', data=interest_frequency_df.sort_values(by='count', ascending=False).head())\n",
        "plt.title(\"Distribution of Related Interests\", fontsize=14)\n",
        "plt.xticks(rotation=90)"
      ]
    },
    {
      "cell_type": "code",
      "source": [
        "from scipy.sparse import csr_matrix\n",
        "\n",
        "def create_X(df):\n",
        "    \"\"\"\n",
        "    Generates a sparse matrix from ratings dataframe.\n",
        "\n",
        "    Args:\n",
        "        df: pandas dataframe containing 3 columns (userId, courseId, rating)\n",
        "\n",
        "    Returns:\n",
        "        X: sparse matrix\n",
        "        user_mapper: dict that maps user id's to user indices\n",
        "        user_inv_mapper: dict that maps user indices to user id's\n",
        "        course_mapper: dict that maps course id's to course indices\n",
        "        course_inv_mapper: dict that maps course indices to course id's\n",
        "    \"\"\"\n",
        "    M = df['userId'].nunique()\n",
        "    N = df['courseId'].nunique()\n",
        "\n",
        "    user_mapper = dict(zip(np.unique(df[\"userId\"]), list(range(M))))\n",
        "    course_mapper = dict(zip(np.unique(df[\"courseId\"]), list(range(N))))\n",
        "\n",
        "    user_inv_mapper = dict(zip(list(range(M)), np.unique(df[\"userId\"])))\n",
        "    course_inv_mapper = dict(zip(list(range(N)), np.unique(df[\"courseId\"])))\n",
        "\n",
        "    user_index = [user_mapper[i] for i in df['userId']]\n",
        "    item_index = [course_mapper[i] for i in df['courseId']]\n",
        "\n",
        "    X = csr_matrix((df[\"rating\"], (user_index,item_index)), shape=(M,N))\n",
        "\n",
        "    return X, user_mapper, course_mapper, user_inv_mapper, course_inv_mapper\n",
        "\n",
        "X, user_mapper, course_mapper, user_inv_mapper, course_inv_mapper = create_X(ratings)"
      ],
      "metadata": {
        "id": "WboAvRFC4XVX"
      },
      "execution_count": null,
      "outputs": []
    },
    {
      "cell_type": "code",
      "source": [
        "X.shape"
      ],
      "metadata": {
        "id": "Wm_4ZmeI5n9b"
      },
      "execution_count": null,
      "outputs": []
    },
    {
      "cell_type": "code",
      "source": [
        "n_total =X.shape[0]*X.shape[1]\n",
        "n_ratings =X.nnz\n",
        "sparsity = n_ratings/n_total\n",
        "print(f\"Matrix sparsity: {round(sparsity*100,2)}%\")"
      ],
      "metadata": {
        "id": "dsT26IRr6_5v"
      },
      "execution_count": null,
      "outputs": []
    },
    {
      "cell_type": "code",
      "source": [
        "n_ratings_per_user = X.getnnz(axis=1)\n",
        "len(n_ratings_per_user)"
      ],
      "metadata": {
        "id": "XP7atdma9IxB"
      },
      "execution_count": null,
      "outputs": []
    },
    {
      "cell_type": "code",
      "source": [
        "n_ratings_per_course = X.getnnz(axis=0)\n",
        "len(n_ratings_per_course)"
      ],
      "metadata": {
        "id": "NVTQXqeS8XXt"
      },
      "execution_count": null,
      "outputs": []
    },
    {
      "cell_type": "code",
      "source": [
        "print(f\"Most rated course has {n_ratings_per_course.max()} ratings.\")\n",
        "print(f\"Least rated course has {n_ratings_per_course.min()} ratings.\")"
      ],
      "metadata": {
        "id": "OVxuYAYh8nkc"
      },
      "execution_count": null,
      "outputs": []
    },
    {
      "cell_type": "code",
      "source": [
        "plt.figure(figsize=(16,4))\n",
        "plt.subplot(1,2,1)\n",
        "sns.kdeplot(n_ratings_per_user, fill=True)\n",
        "plt.xlim(0)\n",
        "plt.title(\"Number of Ratings Per User\", fontsize=14)\n",
        "plt.xlabel(\"number of ratings per user\")\n",
        "plt.ylabel(\"density\")\n",
        "plt.subplot(1,2,2)\n",
        "sns.kdeplot(n_ratings_per_course, fill=True)\n",
        "plt.xlim(0)\n",
        "plt.title(\"Number of Ratings Per course\", fontsize=14)\n",
        "plt.xlabel(\"number of ratings per course\")\n",
        "plt.ylabel(\"density\")\n",
        "plt.show()"
      ],
      "metadata": {
        "id": "oEWJekEo846I"
      },
      "execution_count": null,
      "outputs": []
    },
    {
      "cell_type": "code",
      "source": [
        "from sklearn.neighbors import NearestNeighbors\n",
        "\n",
        "def find_similar_courses(course_id, X, course_mapper, course_inv_mapper, k, metric='cosine'):\n",
        "    \"\"\"\n",
        "    Finds k-nearest neighbours for a given course id.\n",
        "\n",
        "    Args:\n",
        "        course_id: id of the course of interest\n",
        "        X: user-item utility matrix\n",
        "        k: number of similar courses to retrieve\n",
        "        metric: distance metric for kNN calculations\n",
        "\n",
        "    Output: returns list of k similar course ID's\n",
        "    \"\"\"\n",
        "    X = X.T\n",
        "    neighbour_ids = []\n",
        "\n",
        "    course_ind = course_mapper[course_id]\n",
        "    course_vec = X[course_ind]\n",
        "    if isinstance(course_vec, (np.ndarray)):\n",
        "        course_vec = course_vec.reshape(1,-1)\n",
        "    # use k+1 since kNN output includes the courseId of interest\n",
        "    kNN = NearestNeighbors(n_neighbors=k+1, algorithm=\"brute\", metric=metric)\n",
        "    kNN.fit(X)\n",
        "    neighbour = kNN.kneighbors(course_vec, return_distance=False)\n",
        "    for i in range(0,k):\n",
        "        n = neighbour.item(i)\n",
        "        neighbour_ids.append(course_inv_mapper[n])\n",
        "    neighbour_ids.pop(0)\n",
        "    return neighbour_ids"
      ],
      "metadata": {
        "id": "9NKRj0rNDhhR"
      },
      "execution_count": null,
      "outputs": []
    },
    {
      "cell_type": "code",
      "source": [
        "similar_courses = find_similar_courses(1, X, course_mapper, course_inv_mapper, k=10)\n",
        "similar_courses"
      ],
      "metadata": {
        "id": "WK6mUTDkERn1"
      },
      "execution_count": null,
      "outputs": []
    },
    {
      "cell_type": "code",
      "source": [
        "# using cosine metrics\n",
        "course_titles = dict(zip(courses['courseId'], courses['Course']))\n",
        "# course_titles\n",
        "course_id = 1\n",
        "\n",
        "similar_courses = find_similar_courses(course_id, X, course_mapper, course_inv_mapper, metric='cosine', k=10)\n",
        "course_title = course_titles[course_id]\n",
        "\n",
        "print(f\"Because you selected {course_title}:\")\n",
        "for i in similar_courses:\n",
        "  print(course_titles[i])"
      ],
      "metadata": {
        "colab": {
          "base_uri": "https://localhost:8080/"
        },
        "id": "Cly6Bw4GExxD",
        "outputId": "4d5df446-2569-4893-916d-5078affe5561"
      },
      "execution_count": null,
      "outputs": [
        {
          "output_type": "stream",
          "name": "stdout",
          "text": [
            "Because you selected Bachelor of Accounting (B.Acc):\n",
            "MSc in Accounting and Finance\n",
            "Certificate in Accountancy\n",
            "MBA in International Business\n",
            "Ordinary Diploma in Taxation (ODTM)\n",
            "MSc in Finance\n",
            "MBA in International Trade and Logistic Operations\n",
            "Postgraduate Diploma in Financial Management (PGDFM)\n",
            "MSc in Finance and Investment\n",
            "Postgraduate Diploma in Tax Management (PGDTM)\n"
          ]
        }
      ]
    },
    {
      "cell_type": "code",
      "source": [
        "# using euclidean, you can replace it with manhattan for another view\n",
        "course_titles = dict(zip(courses['courseId'], courses['Course']))\n",
        "# course_titles\n",
        "course_id = 1\n",
        "\n",
        "similar_courses = find_similar_courses(course_id, X, course_mapper, course_inv_mapper, metric='euclidean', k=10)\n",
        "course_title = course_titles[course_id]\n",
        "\n",
        "print(f\"Because you selected {course_title}:\")\n",
        "for i in similar_courses:\n",
        "  print(course_titles[i])"
      ],
      "metadata": {
        "colab": {
          "base_uri": "https://localhost:8080/"
        },
        "id": "5CeBVXlQHJ4Q",
        "outputId": "3e04caf9-7677-47d6-a319-836f8fa911b2"
      },
      "execution_count": null,
      "outputs": [
        {
          "output_type": "stream",
          "name": "stdout",
          "text": [
            "Because you selected Bachelor of Accounting (B.Acc):\n",
            "Certificate in Accountancy\n",
            "Ordinary Diploma in Social Protection (ODSP)\n",
            "Basic Technician Certificate in Social Protection (BTCSP)\n",
            "Certificate in Banking and Finance\n",
            "Ordinary Diploma in Banking (ODB)\n",
            "Basic Technician Certificate in Accountancy (BTCA)\n",
            "MSc in Information Technology and Management (MSc IT & Management)\n",
            "MSc in Social Protection Policy and Development (MSc SPPD)\n",
            "Postgraduate Diploma in Tax Management (PGDTM)\n"
          ]
        }
      ]
    },
    {
      "cell_type": "code",
      "source": [
        "interests = set(i for I in courses['Related_Interests'] for i in I)\n",
        "# interests\n",
        "for i in interests:\n",
        "    courses[i] = courses.Related_Interests.transform(lambda x: int(i in x))\n",
        "\n",
        "course_interests = courses.drop(columns=['courseId', 'Course','Related_Interests', 'Faculty', 'Level'])"
      ],
      "metadata": {
        "id": "XwA8DcCwOA4F"
      },
      "execution_count": null,
      "outputs": []
    },
    {
      "cell_type": "code",
      "source": [
        "course_interests.head()"
      ],
      "metadata": {
        "colab": {
          "base_uri": "https://localhost:8080/",
          "height": 290
        },
        "id": "kmGv7MMXP93w",
        "outputId": "ff8ea175-b1e1-49c7-b5b0-b68f194b3684"
      },
      "execution_count": null,
      "outputs": [
        {
          "output_type": "execute_result",
          "data": {
            "text/plain": [
              "   Database Design  Software Installation  Bookkeeping  Risk Assessment  \\\n",
              "0                0                      0            0                0   \n",
              "1                0                      0            0                0   \n",
              "2                0                      0            0                0   \n",
              "3                0                      0            1                0   \n",
              "4                0                      0            1                0   \n",
              "\n",
              "   Employee Development  Logistics  Web Development  Operations Management  \\\n",
              "0                     0          0                0                      0   \n",
              "1                     0          0                0                      0   \n",
              "2                     0          0                0                      0   \n",
              "3                     0          0                0                      0   \n",
              "4                     0          0                0                      0   \n",
              "\n",
              "   Labor Relations  Retail Banking  ...  Algorithms  Financial Planning  \\\n",
              "0                0               0  ...           0                   0   \n",
              "1                0               0  ...           0                   0   \n",
              "2                0               1  ...           0                   0   \n",
              "3                0               0  ...           0                   0   \n",
              "4                0               0  ...           0                   0   \n",
              "\n",
              "   Auditing  Performance Management  Actuarial Science  Accounting  \\\n",
              "0         1                       0                  0           1   \n",
              "1         0                       0                  0           0   \n",
              "2         0                       0                  0           0   \n",
              "3         1                       0                  0           0   \n",
              "4         1                       0                  0           1   \n",
              "\n",
              "   Organizational Behavior  Supply Chain Management  IT Project Management  \\\n",
              "0                        0                        0                      0   \n",
              "1                        0                        0                      0   \n",
              "2                        0                        0                      0   \n",
              "3                        0                        0                      0   \n",
              "4                        0                        0                      0   \n",
              "\n",
              "   Corporate Finance  \n",
              "0                  1  \n",
              "1                  1  \n",
              "2                  0  \n",
              "3                  0  \n",
              "4                  0  \n",
              "\n",
              "[5 rows x 72 columns]"
            ],
            "text/html": [
              "\n",
              "  <div id=\"df-aaf08115-0043-451e-9b2e-c44684bff6fb\" class=\"colab-df-container\">\n",
              "    <div>\n",
              "<style scoped>\n",
              "    .dataframe tbody tr th:only-of-type {\n",
              "        vertical-align: middle;\n",
              "    }\n",
              "\n",
              "    .dataframe tbody tr th {\n",
              "        vertical-align: top;\n",
              "    }\n",
              "\n",
              "    .dataframe thead th {\n",
              "        text-align: right;\n",
              "    }\n",
              "</style>\n",
              "<table border=\"1\" class=\"dataframe\">\n",
              "  <thead>\n",
              "    <tr style=\"text-align: right;\">\n",
              "      <th></th>\n",
              "      <th>Database Design</th>\n",
              "      <th>Software Installation</th>\n",
              "      <th>Bookkeeping</th>\n",
              "      <th>Risk Assessment</th>\n",
              "      <th>Employee Development</th>\n",
              "      <th>Logistics</th>\n",
              "      <th>Web Development</th>\n",
              "      <th>Operations Management</th>\n",
              "      <th>Labor Relations</th>\n",
              "      <th>Retail Banking</th>\n",
              "      <th>...</th>\n",
              "      <th>Algorithms</th>\n",
              "      <th>Financial Planning</th>\n",
              "      <th>Auditing</th>\n",
              "      <th>Performance Management</th>\n",
              "      <th>Actuarial Science</th>\n",
              "      <th>Accounting</th>\n",
              "      <th>Organizational Behavior</th>\n",
              "      <th>Supply Chain Management</th>\n",
              "      <th>IT Project Management</th>\n",
              "      <th>Corporate Finance</th>\n",
              "    </tr>\n",
              "  </thead>\n",
              "  <tbody>\n",
              "    <tr>\n",
              "      <th>0</th>\n",
              "      <td>0</td>\n",
              "      <td>0</td>\n",
              "      <td>0</td>\n",
              "      <td>0</td>\n",
              "      <td>0</td>\n",
              "      <td>0</td>\n",
              "      <td>0</td>\n",
              "      <td>0</td>\n",
              "      <td>0</td>\n",
              "      <td>0</td>\n",
              "      <td>...</td>\n",
              "      <td>0</td>\n",
              "      <td>0</td>\n",
              "      <td>1</td>\n",
              "      <td>0</td>\n",
              "      <td>0</td>\n",
              "      <td>1</td>\n",
              "      <td>0</td>\n",
              "      <td>0</td>\n",
              "      <td>0</td>\n",
              "      <td>1</td>\n",
              "    </tr>\n",
              "    <tr>\n",
              "      <th>1</th>\n",
              "      <td>0</td>\n",
              "      <td>0</td>\n",
              "      <td>0</td>\n",
              "      <td>0</td>\n",
              "      <td>0</td>\n",
              "      <td>0</td>\n",
              "      <td>0</td>\n",
              "      <td>0</td>\n",
              "      <td>0</td>\n",
              "      <td>0</td>\n",
              "      <td>...</td>\n",
              "      <td>0</td>\n",
              "      <td>0</td>\n",
              "      <td>0</td>\n",
              "      <td>0</td>\n",
              "      <td>0</td>\n",
              "      <td>0</td>\n",
              "      <td>0</td>\n",
              "      <td>0</td>\n",
              "      <td>0</td>\n",
              "      <td>1</td>\n",
              "    </tr>\n",
              "    <tr>\n",
              "      <th>2</th>\n",
              "      <td>0</td>\n",
              "      <td>0</td>\n",
              "      <td>0</td>\n",
              "      <td>0</td>\n",
              "      <td>0</td>\n",
              "      <td>0</td>\n",
              "      <td>0</td>\n",
              "      <td>0</td>\n",
              "      <td>0</td>\n",
              "      <td>1</td>\n",
              "      <td>...</td>\n",
              "      <td>0</td>\n",
              "      <td>0</td>\n",
              "      <td>0</td>\n",
              "      <td>0</td>\n",
              "      <td>0</td>\n",
              "      <td>0</td>\n",
              "      <td>0</td>\n",
              "      <td>0</td>\n",
              "      <td>0</td>\n",
              "      <td>0</td>\n",
              "    </tr>\n",
              "    <tr>\n",
              "      <th>3</th>\n",
              "      <td>0</td>\n",
              "      <td>0</td>\n",
              "      <td>1</td>\n",
              "      <td>0</td>\n",
              "      <td>0</td>\n",
              "      <td>0</td>\n",
              "      <td>0</td>\n",
              "      <td>0</td>\n",
              "      <td>0</td>\n",
              "      <td>0</td>\n",
              "      <td>...</td>\n",
              "      <td>0</td>\n",
              "      <td>0</td>\n",
              "      <td>1</td>\n",
              "      <td>0</td>\n",
              "      <td>0</td>\n",
              "      <td>0</td>\n",
              "      <td>0</td>\n",
              "      <td>0</td>\n",
              "      <td>0</td>\n",
              "      <td>0</td>\n",
              "    </tr>\n",
              "    <tr>\n",
              "      <th>4</th>\n",
              "      <td>0</td>\n",
              "      <td>0</td>\n",
              "      <td>1</td>\n",
              "      <td>0</td>\n",
              "      <td>0</td>\n",
              "      <td>0</td>\n",
              "      <td>0</td>\n",
              "      <td>0</td>\n",
              "      <td>0</td>\n",
              "      <td>0</td>\n",
              "      <td>...</td>\n",
              "      <td>0</td>\n",
              "      <td>0</td>\n",
              "      <td>1</td>\n",
              "      <td>0</td>\n",
              "      <td>0</td>\n",
              "      <td>1</td>\n",
              "      <td>0</td>\n",
              "      <td>0</td>\n",
              "      <td>0</td>\n",
              "      <td>0</td>\n",
              "    </tr>\n",
              "  </tbody>\n",
              "</table>\n",
              "<p>5 rows × 72 columns</p>\n",
              "</div>\n",
              "    <div class=\"colab-df-buttons\">\n",
              "\n",
              "  <div class=\"colab-df-container\">\n",
              "    <button class=\"colab-df-convert\" onclick=\"convertToInteractive('df-aaf08115-0043-451e-9b2e-c44684bff6fb')\"\n",
              "            title=\"Convert this dataframe to an interactive table.\"\n",
              "            style=\"display:none;\">\n",
              "\n",
              "  <svg xmlns=\"http://www.w3.org/2000/svg\" height=\"24px\" viewBox=\"0 -960 960 960\">\n",
              "    <path d=\"M120-120v-720h720v720H120Zm60-500h600v-160H180v160Zm220 220h160v-160H400v160Zm0 220h160v-160H400v160ZM180-400h160v-160H180v160Zm440 0h160v-160H620v160ZM180-180h160v-160H180v160Zm440 0h160v-160H620v160Z\"/>\n",
              "  </svg>\n",
              "    </button>\n",
              "\n",
              "  <style>\n",
              "    .colab-df-container {\n",
              "      display:flex;\n",
              "      gap: 12px;\n",
              "    }\n",
              "\n",
              "    .colab-df-convert {\n",
              "      background-color: #E8F0FE;\n",
              "      border: none;\n",
              "      border-radius: 50%;\n",
              "      cursor: pointer;\n",
              "      display: none;\n",
              "      fill: #1967D2;\n",
              "      height: 32px;\n",
              "      padding: 0 0 0 0;\n",
              "      width: 32px;\n",
              "    }\n",
              "\n",
              "    .colab-df-convert:hover {\n",
              "      background-color: #E2EBFA;\n",
              "      box-shadow: 0px 1px 2px rgba(60, 64, 67, 0.3), 0px 1px 3px 1px rgba(60, 64, 67, 0.15);\n",
              "      fill: #174EA6;\n",
              "    }\n",
              "\n",
              "    .colab-df-buttons div {\n",
              "      margin-bottom: 4px;\n",
              "    }\n",
              "\n",
              "    [theme=dark] .colab-df-convert {\n",
              "      background-color: #3B4455;\n",
              "      fill: #D2E3FC;\n",
              "    }\n",
              "\n",
              "    [theme=dark] .colab-df-convert:hover {\n",
              "      background-color: #434B5C;\n",
              "      box-shadow: 0px 1px 3px 1px rgba(0, 0, 0, 0.15);\n",
              "      filter: drop-shadow(0px 1px 2px rgba(0, 0, 0, 0.3));\n",
              "      fill: #FFFFFF;\n",
              "    }\n",
              "  </style>\n",
              "\n",
              "    <script>\n",
              "      const buttonEl =\n",
              "        document.querySelector('#df-aaf08115-0043-451e-9b2e-c44684bff6fb button.colab-df-convert');\n",
              "      buttonEl.style.display =\n",
              "        google.colab.kernel.accessAllowed ? 'block' : 'none';\n",
              "\n",
              "      async function convertToInteractive(key) {\n",
              "        const element = document.querySelector('#df-aaf08115-0043-451e-9b2e-c44684bff6fb');\n",
              "        const dataTable =\n",
              "          await google.colab.kernel.invokeFunction('convertToInteractive',\n",
              "                                                    [key], {});\n",
              "        if (!dataTable) return;\n",
              "\n",
              "        const docLinkHtml = 'Like what you see? Visit the ' +\n",
              "          '<a target=\"_blank\" href=https://colab.research.google.com/notebooks/data_table.ipynb>data table notebook</a>'\n",
              "          + ' to learn more about interactive tables.';\n",
              "        element.innerHTML = '';\n",
              "        dataTable['output_type'] = 'display_data';\n",
              "        await google.colab.output.renderOutput(dataTable, element);\n",
              "        const docLink = document.createElement('div');\n",
              "        docLink.innerHTML = docLinkHtml;\n",
              "        element.appendChild(docLink);\n",
              "      }\n",
              "    </script>\n",
              "  </div>\n",
              "\n",
              "\n",
              "<div id=\"df-d7125001-7664-4fb5-af71-996b7495fb04\">\n",
              "  <button class=\"colab-df-quickchart\" onclick=\"quickchart('df-d7125001-7664-4fb5-af71-996b7495fb04')\"\n",
              "            title=\"Suggest charts\"\n",
              "            style=\"display:none;\">\n",
              "\n",
              "<svg xmlns=\"http://www.w3.org/2000/svg\" height=\"24px\"viewBox=\"0 0 24 24\"\n",
              "     width=\"24px\">\n",
              "    <g>\n",
              "        <path d=\"M19 3H5c-1.1 0-2 .9-2 2v14c0 1.1.9 2 2 2h14c1.1 0 2-.9 2-2V5c0-1.1-.9-2-2-2zM9 17H7v-7h2v7zm4 0h-2V7h2v10zm4 0h-2v-4h2v4z\"/>\n",
              "    </g>\n",
              "</svg>\n",
              "  </button>\n",
              "\n",
              "<style>\n",
              "  .colab-df-quickchart {\n",
              "      --bg-color: #E8F0FE;\n",
              "      --fill-color: #1967D2;\n",
              "      --hover-bg-color: #E2EBFA;\n",
              "      --hover-fill-color: #174EA6;\n",
              "      --disabled-fill-color: #AAA;\n",
              "      --disabled-bg-color: #DDD;\n",
              "  }\n",
              "\n",
              "  [theme=dark] .colab-df-quickchart {\n",
              "      --bg-color: #3B4455;\n",
              "      --fill-color: #D2E3FC;\n",
              "      --hover-bg-color: #434B5C;\n",
              "      --hover-fill-color: #FFFFFF;\n",
              "      --disabled-bg-color: #3B4455;\n",
              "      --disabled-fill-color: #666;\n",
              "  }\n",
              "\n",
              "  .colab-df-quickchart {\n",
              "    background-color: var(--bg-color);\n",
              "    border: none;\n",
              "    border-radius: 50%;\n",
              "    cursor: pointer;\n",
              "    display: none;\n",
              "    fill: var(--fill-color);\n",
              "    height: 32px;\n",
              "    padding: 0;\n",
              "    width: 32px;\n",
              "  }\n",
              "\n",
              "  .colab-df-quickchart:hover {\n",
              "    background-color: var(--hover-bg-color);\n",
              "    box-shadow: 0 1px 2px rgba(60, 64, 67, 0.3), 0 1px 3px 1px rgba(60, 64, 67, 0.15);\n",
              "    fill: var(--button-hover-fill-color);\n",
              "  }\n",
              "\n",
              "  .colab-df-quickchart-complete:disabled,\n",
              "  .colab-df-quickchart-complete:disabled:hover {\n",
              "    background-color: var(--disabled-bg-color);\n",
              "    fill: var(--disabled-fill-color);\n",
              "    box-shadow: none;\n",
              "  }\n",
              "\n",
              "  .colab-df-spinner {\n",
              "    border: 2px solid var(--fill-color);\n",
              "    border-color: transparent;\n",
              "    border-bottom-color: var(--fill-color);\n",
              "    animation:\n",
              "      spin 1s steps(1) infinite;\n",
              "  }\n",
              "\n",
              "  @keyframes spin {\n",
              "    0% {\n",
              "      border-color: transparent;\n",
              "      border-bottom-color: var(--fill-color);\n",
              "      border-left-color: var(--fill-color);\n",
              "    }\n",
              "    20% {\n",
              "      border-color: transparent;\n",
              "      border-left-color: var(--fill-color);\n",
              "      border-top-color: var(--fill-color);\n",
              "    }\n",
              "    30% {\n",
              "      border-color: transparent;\n",
              "      border-left-color: var(--fill-color);\n",
              "      border-top-color: var(--fill-color);\n",
              "      border-right-color: var(--fill-color);\n",
              "    }\n",
              "    40% {\n",
              "      border-color: transparent;\n",
              "      border-right-color: var(--fill-color);\n",
              "      border-top-color: var(--fill-color);\n",
              "    }\n",
              "    60% {\n",
              "      border-color: transparent;\n",
              "      border-right-color: var(--fill-color);\n",
              "    }\n",
              "    80% {\n",
              "      border-color: transparent;\n",
              "      border-right-color: var(--fill-color);\n",
              "      border-bottom-color: var(--fill-color);\n",
              "    }\n",
              "    90% {\n",
              "      border-color: transparent;\n",
              "      border-bottom-color: var(--fill-color);\n",
              "    }\n",
              "  }\n",
              "</style>\n",
              "\n",
              "  <script>\n",
              "    async function quickchart(key) {\n",
              "      const quickchartButtonEl =\n",
              "        document.querySelector('#' + key + ' button');\n",
              "      quickchartButtonEl.disabled = true;  // To prevent multiple clicks.\n",
              "      quickchartButtonEl.classList.add('colab-df-spinner');\n",
              "      try {\n",
              "        const charts = await google.colab.kernel.invokeFunction(\n",
              "            'suggestCharts', [key], {});\n",
              "      } catch (error) {\n",
              "        console.error('Error during call to suggestCharts:', error);\n",
              "      }\n",
              "      quickchartButtonEl.classList.remove('colab-df-spinner');\n",
              "      quickchartButtonEl.classList.add('colab-df-quickchart-complete');\n",
              "    }\n",
              "    (() => {\n",
              "      let quickchartButtonEl =\n",
              "        document.querySelector('#df-d7125001-7664-4fb5-af71-996b7495fb04 button');\n",
              "      quickchartButtonEl.style.display =\n",
              "        google.colab.kernel.accessAllowed ? 'block' : 'none';\n",
              "    })();\n",
              "  </script>\n",
              "</div>\n",
              "\n",
              "    </div>\n",
              "  </div>\n"
            ],
            "application/vnd.google.colaboratory.intrinsic+json": {
              "type": "dataframe",
              "variable_name": "course_interests"
            }
          },
          "metadata": {},
          "execution_count": 203
        }
      ]
    },
    {
      "cell_type": "code",
      "source": [
        "from sklearn.metrics.pairwise import cosine_similarity\n",
        "\n",
        "cosine_sim = cosine_similarity(course_interests, course_interests)\n",
        "print(f\"Dimensions of our interests cosine similarity matrix: {cosine_sim.shape}\")"
      ],
      "metadata": {
        "colab": {
          "base_uri": "https://localhost:8080/"
        },
        "id": "CFoqkqBhRdtq",
        "outputId": "5bea6ed6-a657-4815-f1a4-cd8beab2f5fa"
      },
      "execution_count": null,
      "outputs": [
        {
          "output_type": "stream",
          "name": "stdout",
          "text": [
            "Dimensions of our interests cosine similarity matrix: (42, 42)\n"
          ]
        }
      ]
    },
    {
      "cell_type": "code",
      "source": [
        "pip install Fuzzywuzzy"
      ],
      "metadata": {
        "colab": {
          "base_uri": "https://localhost:8080/"
        },
        "id": "bfdSqyxGTWTf",
        "outputId": "42721638-12fd-4538-d242-113324a0bef3"
      },
      "execution_count": null,
      "outputs": [
        {
          "output_type": "stream",
          "name": "stdout",
          "text": [
            "Collecting Fuzzywuzzy\n",
            "  Downloading fuzzywuzzy-0.18.0-py2.py3-none-any.whl (18 kB)\n",
            "Installing collected packages: Fuzzywuzzy\n",
            "Successfully installed Fuzzywuzzy-0.18.0\n"
          ]
        }
      ]
    },
    {
      "cell_type": "code",
      "source": [
        "from fuzzywuzzy import process\n",
        "\n",
        "def course_finder(title):\n",
        "    all_titles = courses['Course'].tolist()\n",
        "    closest_match = process.extractOne(title, all_titles)\n",
        "    return closest_match[0]"
      ],
      "metadata": {
        "id": "AqZaxXewSo7O"
      },
      "execution_count": null,
      "outputs": []
    },
    {
      "cell_type": "code",
      "source": [
        "title = course_finder('finance')\n",
        "title"
      ],
      "metadata": {
        "colab": {
          "base_uri": "https://localhost:8080/",
          "height": 36
        },
        "id": "GZzHEu84TpDm",
        "outputId": "016bea75-e859-4e48-acdd-c5712893a3e6"
      },
      "execution_count": null,
      "outputs": [
        {
          "output_type": "execute_result",
          "data": {
            "text/plain": [
              "'Bachelor of Banking and Finance (BBF)'"
            ],
            "application/vnd.google.colaboratory.intrinsic+json": {
              "type": "string"
            }
          },
          "metadata": {},
          "execution_count": 213
        }
      ]
    },
    {
      "cell_type": "code",
      "source": [
        "course_idx = dict(zip(courses['Course'], list(courses.index)))\n",
        "idx = course_idx[title]\n",
        "print(f\"course index for Account: {idx}\")"
      ],
      "metadata": {
        "colab": {
          "base_uri": "https://localhost:8080/"
        },
        "id": "G_cbIwLTUHlF",
        "outputId": "46ae6b3e-12fc-4daa-d5a6-638583e89b14"
      },
      "execution_count": null,
      "outputs": [
        {
          "output_type": "stream",
          "name": "stdout",
          "text": [
            "course index for Account: 1\n"
          ]
        }
      ]
    },
    {
      "cell_type": "code",
      "source": [
        "n_recommendations=10\n",
        "sim_scores = list(enumerate(cosine_sim[idx]))\n",
        "sim_scores = sorted(sim_scores, key=lambda x: x[1], reverse=True)\n",
        "sim_scores=sim_scores[1:n_recommendations+1]\n",
        "sim_scores\n"
      ],
      "metadata": {
        "colab": {
          "base_uri": "https://localhost:8080/"
        },
        "id": "XeAI582ZUrnE",
        "outputId": "29dee456-30b8-400d-cd69-0d9fe2fff7d3"
      },
      "execution_count": null,
      "outputs": [
        {
          "output_type": "execute_result",
          "data": {
            "text/plain": [
              "[(23, 0.7999999999999999),\n",
              " (20, 0.39999999999999997),\n",
              " (22, 0.39999999999999997),\n",
              " (0, 0.19999999999999998),\n",
              " (2, 0.19999999999999998),\n",
              " (5, 0.19999999999999998),\n",
              " (21, 0.19999999999999998),\n",
              " (28, 0.19999999999999998),\n",
              " (36, 0.19999999999999998),\n",
              " (3, 0.0)]"
            ]
          },
          "metadata": {},
          "execution_count": 218
        }
      ]
    },
    {
      "cell_type": "code",
      "source": [
        "similar_courses= [i[0] for i in sim_scores]\n",
        "similar_courses"
      ],
      "metadata": {
        "colab": {
          "base_uri": "https://localhost:8080/"
        },
        "id": "xxBceMJyVuCB",
        "outputId": "e72b882b-0486-4274-c5f7-f6ccb256db76"
      },
      "execution_count": null,
      "outputs": [
        {
          "output_type": "execute_result",
          "data": {
            "text/plain": [
              "[23, 20, 22, 0, 2, 5, 21, 28, 36, 3]"
            ]
          },
          "metadata": {},
          "execution_count": 219
        }
      ]
    },
    {
      "cell_type": "code",
      "source": [
        "print(f\"Because you selected {title}:\")\n",
        "courses['Course'].iloc[similar_courses]"
      ],
      "metadata": {
        "colab": {
          "base_uri": "https://localhost:8080/"
        },
        "id": "TBj0bXkBV_6f",
        "outputId": "98e020d7-760f-4bcf-9293-4703026c4a84"
      },
      "execution_count": null,
      "outputs": [
        {
          "output_type": "stream",
          "name": "stdout",
          "text": [
            "Because you selected Bachelor of Banking and Finance (BBF):\n"
          ]
        },
        {
          "output_type": "execute_result",
          "data": {
            "text/plain": [
              "23    Postgraduate Diploma in Financial Management (...\n",
              "20                        MSc in Finance and Investment\n",
              "22                                       MSc in Finance\n",
              "0                        Bachelor of Accounting (B.Acc)\n",
              "2                     Ordinary Diploma in Banking (ODB)\n",
              "5     Basic Technician Certificate in Banking and Fi...\n",
              "21                        MSc in Accounting and Finance\n",
              "28    Postgraduate Diploma in Business Administratio...\n",
              "36                   Certificate in Banking and Finance\n",
              "3                  Ordinary Diploma in Accounting (ODA)\n",
              "Name: Course, dtype: object"
            ]
          },
          "metadata": {},
          "execution_count": 220
        }
      ]
    },
    {
      "cell_type": "code",
      "source": [
        "def get_content_based_recommendations(title_string, n_recommendations=10):\n",
        "    title = course_finder(title_string)\n",
        "    idx = course_idx[title]\n",
        "    sim_scores = list(enumerate(cosine_sim[idx]))\n",
        "    sim_scores = sorted(sim_scores, key=lambda x: x[1], reverse=True)\n",
        "    sim_scores = sim_scores[1:(n_recommendations+1)]\n",
        "    similar_courses = [i[0] for i in sim_scores]\n",
        "    print(f\"Because you selected {title}:\")\n",
        "    print(courses['Course'].iloc[similar_courses])"
      ],
      "metadata": {
        "id": "kUulltPPWcTh"
      },
      "execution_count": null,
      "outputs": []
    },
    {
      "cell_type": "code",
      "source": [
        "# provide the course keywords and how many recommendations you would like to\n",
        "# generate\n",
        "get_content_based_recommendations('it', 5)"
      ],
      "metadata": {
        "colab": {
          "base_uri": "https://localhost:8080/"
        },
        "id": "4k-SYjX7Wnq6",
        "outputId": "4d586572-2de5-442a-8c44-0ba181f8bab8"
      },
      "execution_count": null,
      "outputs": [
        {
          "output_type": "stream",
          "name": "stdout",
          "text": [
            "Because you selected Bachelor of Science in Information Technology (BSc IT):\n",
            "8     Ordinary Diploma in Information Technology (ODIT)\n",
            "34    MSc in Information Technology and Management (...\n",
            "10    Basic Technician Certificate in Computing and ...\n",
            "38    Certificate in Computer and Information Techno...\n",
            "41    Basic Technician Certificate in Computing and ...\n",
            "Name: Course, dtype: object\n"
          ]
        }
      ]
    },
    {
      "cell_type": "code",
      "source": [
        "from sklearn.decomposition import TruncatedSVD\n",
        "\n",
        "svd = TruncatedSVD(n_components=20, n_iter=10)\n",
        "Q = svd.fit_transform(X.T)\n",
        "Q.shape"
      ],
      "metadata": {
        "colab": {
          "base_uri": "https://localhost:8080/"
        },
        "id": "THkV5KkHcYLE",
        "outputId": "fc6245db-ebc6-4954-c364-e7a03c979d28"
      },
      "execution_count": null,
      "outputs": [
        {
          "output_type": "execute_result",
          "data": {
            "text/plain": [
              "(42, 20)"
            ]
          },
          "metadata": {},
          "execution_count": 223
        }
      ]
    },
    {
      "cell_type": "code",
      "source": [
        "course_id = 1\n",
        "similar_courses = find_similar_courses(course_id, Q.T, course_mapper, course_inv_mapper, metric='cosine', k=10)\n",
        "course_title = course_titles[course_id]\n",
        "\n",
        "print(f\"Because you selected {course_title} similar courses are:\")\n",
        "for i in similar_courses:\n",
        "    print(course_titles[i])"
      ],
      "metadata": {
        "colab": {
          "base_uri": "https://localhost:8080/"
        },
        "id": "1hQt6jD6fCTF",
        "outputId": "6c162c8d-78c7-41b5-d7a6-76d3f3cb5792"
      },
      "execution_count": null,
      "outputs": [
        {
          "output_type": "stream",
          "name": "stdout",
          "text": [
            "Because you selected Bachelor of Accounting (B.Acc) similar courses are:\n",
            "MSc in Finance and Investment\n",
            "Postgraduate Diploma in Financial Management (PGDFM)\n",
            "Certificate in Accountancy\n",
            "Ordinary Diploma in Social Protection (ODSP)\n",
            "Certificate in Taxation\n",
            "Bachelor of Science in Information Technology (BSc IT)\n",
            "Postgraduate Diploma in Tax Management (PGDTM)\n",
            "Certificate in Computer and Information Technology\n",
            "MSc in Social Protection Policy and Development (MSc SPPD)\n"
          ]
        }
      ]
    }
  ],
  "metadata": {
    "colab": {
      "provenance": []
    },
    "kernelspec": {
      "display_name": "Python 3",
      "name": "python3"
    },
    "language_info": {
      "name": "python"
    }
  },
  "nbformat": 4,
  "nbformat_minor": 0
}