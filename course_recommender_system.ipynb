{
  "cells": [
    {
      "cell_type": "code",
      "execution_count": null,
      "metadata": {
        "id": "G2CrFZOPP-ZV"
      },
      "outputs": [],
      "source": [
        "import numpy as np\n",
        "import pandas as pd\n",
        "import matplotlib.pyplot as plt\n",
        "import seaborn as sns"
      ]
    },
    {
      "cell_type": "code",
      "execution_count": null,
      "metadata": {
        "id": "SvlCSIn6RIE_"
      },
      "outputs": [],
      "source": [
        "ratings = pd.read_csv('data/ratings (1).csv')"
      ]
    },
    {
      "cell_type": "code",
      "execution_count": null,
      "metadata": {
        "id": "75kXzbV4RM_j"
      },
      "outputs": [],
      "source": [
        "courses = pd.read_csv('data/courses.csv')"
      ]
    },
    {
      "cell_type": "code",
      "execution_count": null,
      "metadata": {
        "id": "coiokRySR-ld"
      },
      "outputs": [],
      "source": [
        "courses.head()"
      ]
    },
    {
      "cell_type": "code",
      "execution_count": null,
      "metadata": {
        "id": "kk1oRtliRszj"
      },
      "outputs": [],
      "source": [
        "ratings.head()"
      ]
    },
    {
      "cell_type": "code",
      "execution_count": null,
      "metadata": {
        "id": "LUdhx_fZUuLN"
      },
      "outputs": [],
      "source": [
        "n_ratings = len(ratings)\n",
        "n_courses = ratings['courseId'].nunique()\n",
        "n_users = ratings['userId'].nunique()\n",
        "\n",
        "print(f\"Number of ratings: {n_ratings}\")\n",
        "print(f\"Number of unique courses: {n_courses}\")\n",
        "print(f\"Number of unique users: {n_users}\")\n",
        "print(f\"Average number of ratings per user: {round(n_ratings/n_users, 2)}\")\n",
        "print(f\"Average number of ratings per course: {round(n_ratings/n_courses, 2)}\")"
      ]
    },
    {
      "cell_type": "code",
      "execution_count": null,
      "metadata": {
        "id": "GAltCTELlZBl"
      },
      "outputs": [],
      "source": [
        "sns.countplot(x='rating', data=ratings)\n",
        "plt.title(\"Distribution of course ratings\", fontsize=14)\n",
        "plt.show()"
      ]
    },
    {
      "cell_type": "code",
      "execution_count": null,
      "metadata": {
        "id": "f0L9_se9wnjD"
      },
      "outputs": [],
      "source": [
        "print(f\"Mean global rating: {round(ratings['rating'].mean(),2)}.\")"
      ]
    },
    {
      "cell_type": "code",
      "execution_count": null,
      "metadata": {
        "id": "LUeg4UlKwtpy"
      },
      "outputs": [],
      "source": [
        "mean_ratings = ratings.groupby('userId')['rating'].mean()\n",
        "print(f\"Mean rating per user: {round(mean_ratings.mean(),2)}.\")"
      ]
    },
    {
      "cell_type": "code",
      "execution_count": null,
      "metadata": {
        "id": "cu0yf8bExTY6"
      },
      "outputs": [],
      "source": [
        "ratings['courseId'].value_counts()"
      ]
    },
    {
      "cell_type": "code",
      "execution_count": null,
      "metadata": {
        "id": "Hy6zR71T1gVS"
      },
      "outputs": [],
      "source": [
        "course_ratings = ratings.merge(courses, on='courseId')\n",
        "# course_ratings\n",
        "course_ratings['Course'].value_counts()[0:10]"
      ]
    },
    {
      "cell_type": "code",
      "execution_count": null,
      "metadata": {
        "id": "tikO5NuL5jWU"
      },
      "outputs": [],
      "source": [
        "mean_ratings = ratings.groupby('courseId')[['rating']].mean()\n",
        "lowest_rated = mean_ratings['rating'].idxmin()\n",
        "# mean_ratings\n",
        "courses[courses['courseId'] == lowest_rated]"
      ]
    },
    {
      "cell_type": "code",
      "execution_count": null,
      "metadata": {
        "id": "CTFn_LRo6VFH"
      },
      "outputs": [],
      "source": [
        "highest_rated = mean_ratings['rating'].idxmax()\n",
        "\n",
        "courses[courses['courseId'] == highest_rated]"
      ]
    },
    {
      "cell_type": "code",
      "execution_count": null,
      "metadata": {
        "id": "-IXwQwhW7HMb"
      },
      "outputs": [],
      "source": [
        "ratings[ratings['courseId']==highest_rated]"
      ]
    },
    {
      "cell_type": "code",
      "execution_count": null,
      "metadata": {
        "id": "4_Fby06W8kLQ"
      },
      "outputs": [],
      "source": [
        "course_stats = ratings.groupby('courseId')['rating'].agg(['count', 'mean'])\n",
        "course_stats.head()"
      ]
    },
    {
      "cell_type": "code",
      "execution_count": null,
      "metadata": {
        "id": "lJ0EyygT9Kze"
      },
      "outputs": [],
      "source": [
        "C = course_stats['count'].mean()\n",
        "m = course_stats['mean'].mean()\n",
        "\n",
        "print(f\"Average number of ratings for a given course: {C:.2f}\")\n",
        "print(f\"Average rating for a given course: {m:.2f}\")\n",
        "\n",
        "def bayesian_avg(ratings):\n",
        "    bayesian_avg = (C*m + ratings.sum())/(C+ratings.count())\n",
        "    return round(bayesian_avg, 3)"
      ]
    },
    {
      "cell_type": "code",
      "execution_count": null,
      "metadata": {
        "id": "yfz1wgl2-Qcc"
      },
      "outputs": [],
      "source": [
        "# these are the two ratings for highest rated course\n",
        "highest_rated = pd.Series([5,5])\n",
        "bayesian_avg(highest_rated)"
      ]
    },
    {
      "cell_type": "code",
      "execution_count": null,
      "metadata": {
        "id": "JLfpIwRxyEMQ"
      },
      "outputs": [],
      "source": [
        "bayesian_avg_ratings = ratings.groupby('courseId')['rating'].agg(bayesian_avg).reset_index()\n",
        "bayesian_avg_ratings.columns = ['courseId', 'bayesian_avg']\n",
        "course_stats = course_stats.merge(bayesian_avg_ratings, on='courseId')"
      ]
    },
    {
      "cell_type": "code",
      "execution_count": null,
      "metadata": {
        "id": "atj1YuT60HIg"
      },
      "outputs": [],
      "source": [
        "course_stats = course_stats.merge(courses[['courseId', 'Course']])\n",
        "# course_stats.sort_values()"
      ]
    },
    {
      "cell_type": "code",
      "execution_count": null,
      "metadata": {
        "id": "OChHgymN0yPb"
      },
      "outputs": [],
      "source": [
        "course_stats.sort_values(by='bayesian_avg')"
      ]
    },
    {
      "cell_type": "code",
      "execution_count": null,
      "metadata": {
        "id": "nQVBRINJzy6-"
      },
      "outputs": [],
      "source": [
        "# top 5 highest rated courses\n",
        "course_stats.sort_values(by='bayesian_avg', ascending=False).head()"
      ]
    },
    {
      "cell_type": "code",
      "execution_count": null,
      "metadata": {
        "id": "_KLA8OVv2Gzd"
      },
      "outputs": [],
      "source": [
        "# top 5 lowest rated courses\n",
        "course_stats.sort_values(by='bayesian_avg', ascending=True).head()"
      ]
    },
    {
      "cell_type": "code",
      "execution_count": null,
      "metadata": {
        "id": "ElBKsGDO3PG_"
      },
      "outputs": [],
      "source": [
        "courses['Related_Interests'] = courses['Related_Interests'].apply(lambda x: x.split('|'))\n",
        "courses.head()"
      ]
    },
    {
      "cell_type": "code",
      "execution_count": null,
      "metadata": {
        "id": "wU7uHc-p4Wr2"
      },
      "outputs": [],
      "source": [
        "from collections import Counter\n",
        "\n",
        "interest_frequency = Counter(i for interests in courses['Related_Interests'] for i in interests)\n",
        "\n",
        "print(f\"There are {len(interest_frequency)} Related interests.\")\n",
        "\n",
        "interest_frequency"
      ]
    },
    {
      "cell_type": "code",
      "execution_count": null,
      "metadata": {
        "id": "BypApR1Z5TEt"
      },
      "outputs": [],
      "source": [
        "print(\"The 5 most common interests: \\n\", interest_frequency.most_common(5))"
      ]
    },
    {
      "cell_type": "code",
      "execution_count": null,
      "metadata": {
        "id": "5A3X0cRv50OK"
      },
      "outputs": [],
      "source": [
        "interest_frequency_df = pd.DataFrame([interest_frequency]).T.reset_index()\n",
        "interest_frequency_df.columns= ['Related_Interests', 'count']\n",
        "\n",
        "sns.barplot(x='Related_Interests', y='count', data=interest_frequency_df.sort_values(by='count', ascending=False).head())\n",
        "plt.title(\"Distribution of Related Interests\", fontsize=14)\n",
        "plt.xticks(rotation=90)"
      ]
    },
    {
      "cell_type": "code",
      "execution_count": null,
      "metadata": {
        "id": "WboAvRFC4XVX"
      },
      "outputs": [],
      "source": [
        "from scipy.sparse import csr_matrix\n",
        "\n",
        "def create_X(df):\n",
        "    \"\"\"\n",
        "    Generates a sparse matrix from ratings dataframe.\n",
        "\n",
        "    Args:\n",
        "        df: pandas dataframe containing 3 columns (userId, courseId, rating)\n",
        "\n",
        "    Returns:\n",
        "        X: sparse matrix\n",
        "        user_mapper: dict that maps user id's to user indices\n",
        "        user_inv_mapper: dict that maps user indices to user id's\n",
        "        course_mapper: dict that maps course id's to course indices\n",
        "        course_inv_mapper: dict that maps course indices to course id's\n",
        "    \"\"\"\n",
        "    M = df['userId'].nunique()\n",
        "    N = df['courseId'].nunique()\n",
        "\n",
        "    user_mapper = dict(zip(np.unique(df[\"userId\"]), list(range(M))))\n",
        "    course_mapper = dict(zip(np.unique(df[\"courseId\"]), list(range(N))))\n",
        "\n",
        "    user_inv_mapper = dict(zip(list(range(M)), np.unique(df[\"userId\"])))\n",
        "    course_inv_mapper = dict(zip(list(range(N)), np.unique(df[\"courseId\"])))\n",
        "\n",
        "    user_index = [user_mapper[i] for i in df['userId']]\n",
        "    item_index = [course_mapper[i] for i in df['courseId']]\n",
        "\n",
        "    X = csr_matrix((df[\"rating\"], (user_index,item_index)), shape=(M,N))\n",
        "\n",
        "    return X, user_mapper, course_mapper, user_inv_mapper, course_inv_mapper\n",
        "\n",
        "X, user_mapper, course_mapper, user_inv_mapper, course_inv_mapper = create_X(ratings)"
      ]
    },
    {
      "cell_type": "code",
      "execution_count": null,
      "metadata": {
        "id": "Wm_4ZmeI5n9b"
      },
      "outputs": [],
      "source": [
        "X.shape"
      ]
    },
    {
      "cell_type": "code",
      "execution_count": null,
      "metadata": {
        "id": "dsT26IRr6_5v"
      },
      "outputs": [],
      "source": [
        "n_total =X.shape[0]*X.shape[1]\n",
        "n_ratings =X.nnz\n",
        "sparsity = n_ratings/n_total\n",
        "print(f\"Matrix sparsity: {round(sparsity*100,2)}%\")"
      ]
    },
    {
      "cell_type": "code",
      "execution_count": null,
      "metadata": {
        "id": "XP7atdma9IxB"
      },
      "outputs": [],
      "source": [
        "n_ratings_per_user = X.getnnz(axis=1)\n",
        "len(n_ratings_per_user)"
      ]
    },
    {
      "cell_type": "code",
      "execution_count": null,
      "metadata": {
        "id": "NVTQXqeS8XXt"
      },
      "outputs": [],
      "source": [
        "n_ratings_per_course = X.getnnz(axis=0)\n",
        "len(n_ratings_per_course)"
      ]
    },
    {
      "cell_type": "code",
      "execution_count": null,
      "metadata": {
        "id": "OVxuYAYh8nkc"
      },
      "outputs": [],
      "source": [
        "print(f\"Most rated course has {n_ratings_per_course.max()} ratings.\")\n",
        "print(f\"Least rated course has {n_ratings_per_course.min()} ratings.\")"
      ]
    },
    {
      "cell_type": "code",
      "execution_count": null,
      "metadata": {
        "id": "oEWJekEo846I"
      },
      "outputs": [],
      "source": [
        "plt.figure(figsize=(16,4))\n",
        "plt.subplot(1,2,1)\n",
        "sns.kdeplot(n_ratings_per_user, fill=True)\n",
        "plt.xlim(0)\n",
        "plt.title(\"Number of Ratings Per User\", fontsize=14)\n",
        "plt.xlabel(\"number of ratings per user\")\n",
        "plt.ylabel(\"density\")\n",
        "plt.subplot(1,2,2)\n",
        "sns.kdeplot(n_ratings_per_course, fill=True)\n",
        "plt.xlim(0)\n",
        "plt.title(\"Number of Ratings Per course\", fontsize=14)\n",
        "plt.xlabel(\"number of ratings per course\")\n",
        "plt.ylabel(\"density\")\n",
        "plt.show()"
      ]
    },
    {
      "cell_type": "code",
      "execution_count": null,
      "metadata": {
        "id": "9NKRj0rNDhhR"
      },
      "outputs": [],
      "source": [
        "from sklearn.neighbors import NearestNeighbors\n",
        "\n",
        "def find_similar_courses(course_id, X, course_mapper, course_inv_mapper, k, metric='cosine'):\n",
        "    \"\"\"\n",
        "    Finds k-nearest neighbours for a given course id.\n",
        "\n",
        "    Args:\n",
        "        course_id: id of the course of interest\n",
        "        X: user-item utility matrix\n",
        "        k: number of similar courses to retrieve\n",
        "        metric: distance metric for kNN calculations\n",
        "\n",
        "    Output: returns list of k similar course ID's\n",
        "    \"\"\"\n",
        "    X = X.T\n",
        "    neighbour_ids = []\n",
        "\n",
        "    course_ind = course_mapper[course_id]\n",
        "    course_vec = X[course_ind]\n",
        "    if isinstance(course_vec, (np.ndarray)):\n",
        "        course_vec = course_vec.reshape(1,-1)\n",
        "    # use k+1 since kNN output includes the courseId of interest\n",
        "    kNN = NearestNeighbors(n_neighbors=k+1, algorithm=\"brute\", metric=metric)\n",
        "    kNN.fit(X)\n",
        "    neighbour = kNN.kneighbors(course_vec, return_distance=False)\n",
        "    for i in range(0,k):\n",
        "        n = neighbour.item(i)\n",
        "        neighbour_ids.append(course_inv_mapper[n])\n",
        "    neighbour_ids.pop(0)\n",
        "    return neighbour_ids"
      ]
    },
    {
      "cell_type": "code",
      "execution_count": null,
      "metadata": {
        "id": "WK6mUTDkERn1"
      },
      "outputs": [],
      "source": [
        "similar_courses = find_similar_courses(1, X, course_mapper, course_inv_mapper, k=10)\n",
        "similar_courses"
      ]
    },
    {
      "cell_type": "code",
      "execution_count": null,
      "metadata": {
        "colab": {
          "base_uri": "https://localhost:8080/"
        },
        "id": "Cly6Bw4GExxD",
        "outputId": "4d5df446-2569-4893-916d-5078affe5561"
      },
      "outputs": [],
      "source": [
        "# using cosine metrics\n",
        "course_titles = dict(zip(courses['courseId'], courses['Course']))\n",
        "# course_titles\n",
        "course_id = 1\n",
        "\n",
        "similar_courses = find_similar_courses(course_id, X, course_mapper, course_inv_mapper, metric='cosine', k=10)\n",
        "course_title = course_titles[course_id]\n",
        "\n",
        "print(f\"Because you selected {course_title}:\")\n",
        "for i in similar_courses:\n",
        "  print(course_titles[i])"
      ]
    },
    {
      "cell_type": "code",
      "execution_count": null,
      "metadata": {
        "colab": {
          "base_uri": "https://localhost:8080/"
        },
        "id": "5CeBVXlQHJ4Q",
        "outputId": "3e04caf9-7677-47d6-a319-836f8fa911b2"
      },
      "outputs": [],
      "source": [
        "# using euclidean, you can replace it with manhattan for another view\n",
        "course_titles = dict(zip(courses['courseId'], courses['Course']))\n",
        "# course_titles\n",
        "course_id = 1\n",
        "\n",
        "similar_courses = find_similar_courses(course_id, X, course_mapper, course_inv_mapper, metric='euclidean', k=10)\n",
        "course_title = course_titles[course_id]\n",
        "\n",
        "print(f\"Because you selected {course_title}:\")\n",
        "for i in similar_courses:\n",
        "  print(course_titles[i])"
      ]
    },
    {
      "cell_type": "code",
      "execution_count": null,
      "metadata": {
        "id": "XwA8DcCwOA4F"
      },
      "outputs": [],
      "source": [
        "interests = set(i for I in courses['Related_Interests'] for i in I)\n",
        "# interests\n",
        "for i in interests:\n",
        "    courses[i] = courses.Related_Interests.transform(lambda x: int(i in x))\n",
        "\n",
        "course_interests = courses.drop(columns=['courseId', 'Course','Related_Interests', 'Faculty', 'Level'])"
      ]
    },
    {
      "cell_type": "code",
      "execution_count": null,
      "metadata": {
        "colab": {
          "base_uri": "https://localhost:8080/",
          "height": 290
        },
        "id": "kmGv7MMXP93w",
        "outputId": "ff8ea175-b1e1-49c7-b5b0-b68f194b3684"
      },
      "outputs": [],
      "source": [
        "course_interests.head()"
      ]
    },
    {
      "cell_type": "code",
      "execution_count": null,
      "metadata": {
        "colab": {
          "base_uri": "https://localhost:8080/"
        },
        "id": "CFoqkqBhRdtq",
        "outputId": "5bea6ed6-a657-4815-f1a4-cd8beab2f5fa"
      },
      "outputs": [],
      "source": [
        "from sklearn.metrics.pairwise import cosine_similarity\n",
        "\n",
        "cosine_sim = cosine_similarity(course_interests, course_interests)\n",
        "print(f\"Dimensions of our interests cosine similarity matrix: {cosine_sim.shape}\")"
      ]
    },
    {
      "cell_type": "code",
      "execution_count": null,
      "metadata": {
        "id": "AqZaxXewSo7O"
      },
      "outputs": [],
      "source": [
        "from fuzzywuzzy import process\n",
        "import Levenshtein\n",
        "\n",
        "def course_finder(title):\n",
        "    all_titles = courses['Course'].tolist()\n",
        "    closest_match = process.extractOne(title, all_titles)\n",
        "    return closest_match[0]"
      ]
    },
    {
      "cell_type": "code",
      "execution_count": null,
      "metadata": {
        "colab": {
          "base_uri": "https://localhost:8080/",
          "height": 36
        },
        "id": "GZzHEu84TpDm",
        "outputId": "016bea75-e859-4e48-acdd-c5712893a3e6"
      },
      "outputs": [],
      "source": [
        "title = course_finder('finance')\n",
        "title"
      ]
    },
    {
      "cell_type": "code",
      "execution_count": null,
      "metadata": {
        "colab": {
          "base_uri": "https://localhost:8080/"
        },
        "id": "G_cbIwLTUHlF",
        "outputId": "46ae6b3e-12fc-4daa-d5a6-638583e89b14"
      },
      "outputs": [],
      "source": [
        "course_idx = dict(zip(courses['Course'], list(courses.index)))\n",
        "idx = course_idx[title]\n",
        "print(f\"course index for Account: {idx}\")"
      ]
    },
    {
      "cell_type": "code",
      "execution_count": null,
      "metadata": {
        "colab": {
          "base_uri": "https://localhost:8080/"
        },
        "id": "XeAI582ZUrnE",
        "outputId": "29dee456-30b8-400d-cd69-0d9fe2fff7d3"
      },
      "outputs": [],
      "source": [
        "n_recommendations=10\n",
        "sim_scores = list(enumerate(cosine_sim[idx]))\n",
        "sim_scores = sorted(sim_scores, key=lambda x: x[1], reverse=True)\n",
        "sim_scores=sim_scores[1:n_recommendations+1]\n",
        "sim_scores\n"
      ]
    },
    {
      "cell_type": "code",
      "execution_count": null,
      "metadata": {
        "colab": {
          "base_uri": "https://localhost:8080/"
        },
        "id": "xxBceMJyVuCB",
        "outputId": "e72b882b-0486-4274-c5f7-f6ccb256db76"
      },
      "outputs": [],
      "source": [
        "similar_courses= [i[0] for i in sim_scores]\n",
        "similar_courses"
      ]
    },
    {
      "cell_type": "code",
      "execution_count": null,
      "metadata": {
        "colab": {
          "base_uri": "https://localhost:8080/"
        },
        "id": "TBj0bXkBV_6f",
        "outputId": "98e020d7-760f-4bcf-9293-4703026c4a84"
      },
      "outputs": [],
      "source": [
        "print(f\"Because you selected {title}:\")\n",
        "courses['Course'].iloc[similar_courses]"
      ]
    },
    {
      "cell_type": "code",
      "execution_count": null,
      "metadata": {
        "id": "kUulltPPWcTh"
      },
      "outputs": [],
      "source": [
        "def get_content_based_recommendations(title_string, n_recommendations=10):\n",
        "    title = course_finder(title_string)\n",
        "    idx = course_idx[title]\n",
        "    sim_scores = list(enumerate(cosine_sim[idx]))\n",
        "    sim_scores = sorted(sim_scores, key=lambda x: x[1], reverse=True)\n",
        "    sim_scores = sim_scores[1:(n_recommendations+1)]\n",
        "    similar_courses = [i[0] for i in sim_scores]\n",
        "    print(f\"Because you selected {title}:\")\n",
        "    print(courses['Course'].iloc[similar_courses])"
      ]
    },
    {
      "cell_type": "code",
      "execution_count": null,
      "metadata": {
        "colab": {
          "base_uri": "https://localhost:8080/"
        },
        "id": "4k-SYjX7Wnq6",
        "outputId": "4d586572-2de5-442a-8c44-0ba181f8bab8"
      },
      "outputs": [],
      "source": [
        "# provide the course keywords and how many recommendations you would like to\n",
        "# generate\n",
        "get_content_based_recommendations('it', 5)"
      ]
    },
    {
      "cell_type": "code",
      "execution_count": null,
      "metadata": {
        "colab": {
          "base_uri": "https://localhost:8080/"
        },
        "id": "THkV5KkHcYLE",
        "outputId": "fc6245db-ebc6-4954-c364-e7a03c979d28"
      },
      "outputs": [],
      "source": [
        "from sklearn.decomposition import TruncatedSVD\n",
        "\n",
        "svd = TruncatedSVD(n_components=20, n_iter=10)\n",
        "Q = svd.fit_transform(X.T)\n",
        "Q.shape"
      ]
    },
    {
      "cell_type": "code",
      "execution_count": null,
      "metadata": {
        "colab": {
          "base_uri": "https://localhost:8080/"
        },
        "id": "1hQt6jD6fCTF",
        "outputId": "6c162c8d-78c7-41b5-d7a6-76d3f3cb5792"
      },
      "outputs": [],
      "source": [
        "course_id = 1\n",
        "similar_courses = find_similar_courses(course_id, Q.T, course_mapper, course_inv_mapper, metric='cosine', k=10)\n",
        "course_title = course_titles[course_id]\n",
        "\n",
        "print(f\"Because you selected {course_title} similar courses are:\")\n",
        "for i in similar_courses:\n",
        "    print(course_titles[i])"
      ]
    }
  ],
  "metadata": {
    "colab": {
      "provenance": []
    },
    "kernelspec": {
      "display_name": "Python 3",
      "name": "python3"
    },
    "language_info": {
      "codemirror_mode": {
        "name": "ipython",
        "version": 3
      },
      "file_extension": ".py",
      "mimetype": "text/x-python",
      "name": "python",
      "nbconvert_exporter": "python",
      "pygments_lexer": "ipython3",
      "version": "3.12.3"
    }
  },
  "nbformat": 4,
  "nbformat_minor": 0
}
